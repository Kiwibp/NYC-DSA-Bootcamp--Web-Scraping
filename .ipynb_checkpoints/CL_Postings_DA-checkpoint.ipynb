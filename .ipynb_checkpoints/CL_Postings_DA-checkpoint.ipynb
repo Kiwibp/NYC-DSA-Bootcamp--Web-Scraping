{
 "cells": [
  {
   "cell_type": "markdown",
   "metadata": {},
   "source": [
    "# Craigslist Used Items Analysis\n",
    "\n",
    "This is my first project related to web scraping and data analytics/visualization. I've always been interested in the second-hand market.  There are many second-hand stores here in the Asheville area. I was curious to explore what was being sold on the most prominent site to post used goods, Craigslist. I used the Scrapy package to scrape the first page of items available close to where I live. This is simple introduction project and I may build this out in more depth in the future as a hobby. For now, this notebook provides a quick snapshot of what is available in the area for the day I scraped CL.\n",
    "\n",
    "Questions I want to answer:\n",
    "\n",
    "What the most common item types being sold around that area?  \n",
    "\n",
    "What items sell for the most money?\n",
    "\n",
    "What can I get for free?\n",
    "\n",
    "How much money should I expect to bring with me to do some treasure-hunting around Asheville and neighboring towns?"
   ]
  },
  {
   "cell_type": "code",
   "execution_count": 2,
   "metadata": {},
   "outputs": [
    {
     "data": {
      "text/html": [
       "<div>\n",
       "<style>\n",
       "    .dataframe thead tr:only-child th {\n",
       "        text-align: right;\n",
       "    }\n",
       "\n",
       "    .dataframe thead th {\n",
       "        text-align: left;\n",
       "    }\n",
       "\n",
       "    .dataframe tbody tr th {\n",
       "        vertical-align: top;\n",
       "    }\n",
       "</style>\n",
       "<table border=\"1\" class=\"dataframe\">\n",
       "  <thead>\n",
       "    <tr style=\"text-align: right;\">\n",
       "      <th></th>\n",
       "      <th>date</th>\n",
       "      <th>location</th>\n",
       "      <th>name</th>\n",
       "      <th>price</th>\n",
       "    </tr>\n",
       "  </thead>\n",
       "  <tbody>\n",
       "    <tr>\n",
       "      <th>0</th>\n",
       "      <td>Apr 25</td>\n",
       "      <td>(GarageTRS)</td>\n",
       "      <td>2015 Harley Davidson Softail Slim with Warrent...</td>\n",
       "      <td>$12899</td>\n",
       "    </tr>\n",
       "    <tr>\n",
       "      <th>1</th>\n",
       "      <td>Apr 25</td>\n",
       "      <td>(~ Hummer_ H3_ Luxury)</td>\n",
       "      <td>2008 *Hummer* *H3* Luxury IN HOUSE FINANCE FRE...</td>\n",
       "      <td>$14950</td>\n",
       "    </tr>\n",
       "    <tr>\n",
       "      <th>2</th>\n",
       "      <td>Apr 25</td>\n",
       "      <td>(GarageTRS)</td>\n",
       "      <td>MUST SELL!! NEED SPACE! 2013 Polaris RZR 800S LE</td>\n",
       "      <td>$9499</td>\n",
       "    </tr>\n",
       "    <tr>\n",
       "      <th>3</th>\n",
       "      <td>Apr 25</td>\n",
       "      <td>(GarageTRS)</td>\n",
       "      <td>2015 Hyosung Aquila GV250 PERFECT Starter Bike!</td>\n",
       "      <td>$3499</td>\n",
       "    </tr>\n",
       "    <tr>\n",
       "      <th>4</th>\n",
       "      <td>Apr 25</td>\n",
       "      <td>(Greenville)</td>\n",
       "      <td>02 Ford Excursion v10</td>\n",
       "      <td>$2500</td>\n",
       "    </tr>\n",
       "  </tbody>\n",
       "</table>\n",
       "</div>"
      ],
      "text/plain": [
       "     date                 location  \\\n",
       "0  Apr 25              (GarageTRS)   \n",
       "1  Apr 25   (~ Hummer_ H3_ Luxury)   \n",
       "2  Apr 25              (GarageTRS)   \n",
       "3  Apr 25              (GarageTRS)   \n",
       "4  Apr 25             (Greenville)   \n",
       "\n",
       "                                                name   price  \n",
       "0  2015 Harley Davidson Softail Slim with Warrent...  $12899  \n",
       "1  2008 *Hummer* *H3* Luxury IN HOUSE FINANCE FRE...  $14950  \n",
       "2   MUST SELL!! NEED SPACE! 2013 Polaris RZR 800S LE   $9499  \n",
       "3    2015 Hyosung Aquila GV250 PERFECT Starter Bike!   $3499  \n",
       "4                              02 Ford Excursion v10   $2500  "
      ]
     },
     "execution_count": 2,
     "metadata": {},
     "output_type": "execute_result"
    }
   ],
   "source": [
    "import pandas as pd\n",
    "import matplotlib.pyplot as plt\n",
    "import numpy as np\n",
    "import seaborn as sns\n",
    "from wordcloud import WordCloud \n",
    "%matplotlib inline\n",
    "\n",
    "#display all lines as ouput\n",
    "from IPython.core.interactiveshell import InteractiveShell\n",
    "InteractiveShell.ast_node_interactivity = \"all\"\n",
    "\n",
    "raw = pd.read_csv(\"avl_used_goods.csv\")\n",
    "\n",
    "raw.head()"
   ]
  },
  {
   "cell_type": "markdown",
   "metadata": {},
   "source": [
    "I'd prefer to simplify the dataframe so the index is the date column; this is just personal preference.  Also, I want to take a look at each remaining column and the data-types they are."
   ]
  },
  {
   "cell_type": "code",
   "execution_count": 3,
   "metadata": {},
   "outputs": [
    {
     "data": {
      "text/plain": [
       "Index(['Apr 25', 'Apr 25', 'Apr 25', 'Apr 25', 'Apr 25'], dtype='object')"
      ]
     },
     "execution_count": 3,
     "metadata": {},
     "output_type": "execute_result"
    }
   ],
   "source": [
    "#adjust index of dataframe\n",
    "postings = raw.rename(index=raw['date'])\n",
    "postings.index[:5]\n",
    "\n",
    "#explain why I changed first column to index."
   ]
  },
  {
   "cell_type": "code",
   "execution_count": 4,
   "metadata": {
    "collapsed": true
   },
   "outputs": [],
   "source": [
    "del postings['date']"
   ]
  },
  {
   "cell_type": "code",
   "execution_count": 5,
   "metadata": {},
   "outputs": [
    {
     "data": {
      "text/plain": [
       "location    object\n",
       "name        object\n",
       "price       object\n",
       "dtype: object"
      ]
     },
     "execution_count": 5,
     "metadata": {},
     "output_type": "execute_result"
    },
    {
     "data": {
      "text/html": [
       "<div>\n",
       "<style>\n",
       "    .dataframe thead tr:only-child th {\n",
       "        text-align: right;\n",
       "    }\n",
       "\n",
       "    .dataframe thead th {\n",
       "        text-align: left;\n",
       "    }\n",
       "\n",
       "    .dataframe tbody tr th {\n",
       "        vertical-align: top;\n",
       "    }\n",
       "</style>\n",
       "<table border=\"1\" class=\"dataframe\">\n",
       "  <thead>\n",
       "    <tr style=\"text-align: right;\">\n",
       "      <th></th>\n",
       "      <th>location</th>\n",
       "      <th>name</th>\n",
       "      <th>price</th>\n",
       "    </tr>\n",
       "  </thead>\n",
       "  <tbody>\n",
       "    <tr>\n",
       "      <th>Apr 25</th>\n",
       "      <td>(GarageTRS)</td>\n",
       "      <td>2015 Harley Davidson Softail Slim with Warrent...</td>\n",
       "      <td>$12899</td>\n",
       "    </tr>\n",
       "    <tr>\n",
       "      <th>Apr 25</th>\n",
       "      <td>(~ Hummer_ H3_ Luxury)</td>\n",
       "      <td>2008 *Hummer* *H3* Luxury IN HOUSE FINANCE FRE...</td>\n",
       "      <td>$14950</td>\n",
       "    </tr>\n",
       "    <tr>\n",
       "      <th>Apr 25</th>\n",
       "      <td>(GarageTRS)</td>\n",
       "      <td>MUST SELL!! NEED SPACE! 2013 Polaris RZR 800S LE</td>\n",
       "      <td>$9499</td>\n",
       "    </tr>\n",
       "    <tr>\n",
       "      <th>Apr 25</th>\n",
       "      <td>(GarageTRS)</td>\n",
       "      <td>2015 Hyosung Aquila GV250 PERFECT Starter Bike!</td>\n",
       "      <td>$3499</td>\n",
       "    </tr>\n",
       "    <tr>\n",
       "      <th>Apr 25</th>\n",
       "      <td>(Greenville)</td>\n",
       "      <td>02 Ford Excursion v10</td>\n",
       "      <td>$2500</td>\n",
       "    </tr>\n",
       "  </tbody>\n",
       "</table>\n",
       "</div>"
      ],
      "text/plain": [
       "                       location  \\\n",
       "Apr 25              (GarageTRS)   \n",
       "Apr 25   (~ Hummer_ H3_ Luxury)   \n",
       "Apr 25              (GarageTRS)   \n",
       "Apr 25              (GarageTRS)   \n",
       "Apr 25             (Greenville)   \n",
       "\n",
       "                                                     name   price  \n",
       "Apr 25  2015 Harley Davidson Softail Slim with Warrent...  $12899  \n",
       "Apr 25  2008 *Hummer* *H3* Luxury IN HOUSE FINANCE FRE...  $14950  \n",
       "Apr 25   MUST SELL!! NEED SPACE! 2013 Polaris RZR 800S LE   $9499  \n",
       "Apr 25    2015 Hyosung Aquila GV250 PERFECT Starter Bike!   $3499  \n",
       "Apr 25                              02 Ford Excursion v10   $2500  "
      ]
     },
     "execution_count": 5,
     "metadata": {},
     "output_type": "execute_result"
    }
   ],
   "source": [
    "postings.dtypes #object data type is essentially string type.\n",
    "postings.head()"
   ]
  },
  {
   "cell_type": "markdown",
   "metadata": {},
   "source": [
    "Before I begin I want to get an idea of how many items I'm starting off with to parse through."
   ]
  },
  {
   "cell_type": "code",
   "execution_count": 6,
   "metadata": {
    "scrolled": true
   },
   "outputs": [
    {
     "data": {
      "text/plain": [
       "98"
      ]
     },
     "execution_count": 6,
     "metadata": {},
     "output_type": "execute_result"
    },
    {
     "data": {
      "text/html": [
       "<div>\n",
       "<style>\n",
       "    .dataframe thead tr:only-child th {\n",
       "        text-align: right;\n",
       "    }\n",
       "\n",
       "    .dataframe thead th {\n",
       "        text-align: left;\n",
       "    }\n",
       "\n",
       "    .dataframe tbody tr th {\n",
       "        vertical-align: top;\n",
       "    }\n",
       "</style>\n",
       "<table border=\"1\" class=\"dataframe\">\n",
       "  <thead>\n",
       "    <tr style=\"text-align: right;\">\n",
       "      <th></th>\n",
       "      <th>location</th>\n",
       "      <th>name</th>\n",
       "      <th>price</th>\n",
       "    </tr>\n",
       "  </thead>\n",
       "  <tbody>\n",
       "    <tr>\n",
       "      <th>Apr 25</th>\n",
       "      <td>(GarageTRS)</td>\n",
       "      <td>2015 Harley Davidson Softail Slim with Warrent...</td>\n",
       "      <td>$12899</td>\n",
       "    </tr>\n",
       "    <tr>\n",
       "      <th>Apr 25</th>\n",
       "      <td>(~ Hummer_ H3_ Luxury)</td>\n",
       "      <td>2008 *Hummer* *H3* Luxury IN HOUSE FINANCE FRE...</td>\n",
       "      <td>$14950</td>\n",
       "    </tr>\n",
       "    <tr>\n",
       "      <th>Apr 25</th>\n",
       "      <td>(GarageTRS)</td>\n",
       "      <td>MUST SELL!! NEED SPACE! 2013 Polaris RZR 800S LE</td>\n",
       "      <td>$9499</td>\n",
       "    </tr>\n",
       "    <tr>\n",
       "      <th>Apr 25</th>\n",
       "      <td>(GarageTRS)</td>\n",
       "      <td>2015 Hyosung Aquila GV250 PERFECT Starter Bike!</td>\n",
       "      <td>$3499</td>\n",
       "    </tr>\n",
       "    <tr>\n",
       "      <th>Apr 25</th>\n",
       "      <td>(Greenville)</td>\n",
       "      <td>02 Ford Excursion v10</td>\n",
       "      <td>$2500</td>\n",
       "    </tr>\n",
       "  </tbody>\n",
       "</table>\n",
       "</div>"
      ],
      "text/plain": [
       "                       location  \\\n",
       "Apr 25              (GarageTRS)   \n",
       "Apr 25   (~ Hummer_ H3_ Luxury)   \n",
       "Apr 25              (GarageTRS)   \n",
       "Apr 25              (GarageTRS)   \n",
       "Apr 25             (Greenville)   \n",
       "\n",
       "                                                     name   price  \n",
       "Apr 25  2015 Harley Davidson Softail Slim with Warrent...  $12899  \n",
       "Apr 25  2008 *Hummer* *H3* Luxury IN HOUSE FINANCE FRE...  $14950  \n",
       "Apr 25   MUST SELL!! NEED SPACE! 2013 Polaris RZR 800S LE   $9499  \n",
       "Apr 25    2015 Hyosung Aquila GV250 PERFECT Starter Bike!   $3499  \n",
       "Apr 25                              02 Ford Excursion v10   $2500  "
      ]
     },
     "execution_count": 6,
     "metadata": {},
     "output_type": "execute_result"
    }
   ],
   "source": [
    "len(postings)\n",
    "postings.head()"
   ]
  },
  {
   "cell_type": "markdown",
   "metadata": {
    "collapsed": true
   },
   "source": [
    "The price column will need to be converted to float-type so that numerical analysis can be performed on the items."
   ]
  },
  {
   "cell_type": "code",
   "execution_count": 7,
   "metadata": {},
   "outputs": [
    {
     "data": {
      "text/plain": [
       "location     object\n",
       "name         object\n",
       "price       float64\n",
       "dtype: object"
      ]
     },
     "execution_count": 7,
     "metadata": {},
     "output_type": "execute_result"
    },
    {
     "data": {
      "text/html": [
       "<div>\n",
       "<style>\n",
       "    .dataframe thead tr:only-child th {\n",
       "        text-align: right;\n",
       "    }\n",
       "\n",
       "    .dataframe thead th {\n",
       "        text-align: left;\n",
       "    }\n",
       "\n",
       "    .dataframe tbody tr th {\n",
       "        vertical-align: top;\n",
       "    }\n",
       "</style>\n",
       "<table border=\"1\" class=\"dataframe\">\n",
       "  <thead>\n",
       "    <tr style=\"text-align: right;\">\n",
       "      <th></th>\n",
       "      <th>location</th>\n",
       "      <th>name</th>\n",
       "      <th>price</th>\n",
       "    </tr>\n",
       "  </thead>\n",
       "  <tbody>\n",
       "    <tr>\n",
       "      <th>Apr 25</th>\n",
       "      <td>(downtown Asheville)</td>\n",
       "      <td>2009 Toyota Tacoma, 4x4 102,000, ext. cab $13,900</td>\n",
       "      <td>139000.0</td>\n",
       "    </tr>\n",
       "    <tr>\n",
       "      <th>Apr 25</th>\n",
       "      <td>(2015 Mercedes-Benz Sprinter Vans)</td>\n",
       "      <td>2015 Mercedes-Benz Sprinter Vans Van Sprinter ...</td>\n",
       "      <td>38189.0</td>\n",
       "    </tr>\n",
       "    <tr>\n",
       "      <th>Apr 25</th>\n",
       "      <td>(marion)</td>\n",
       "      <td>1968 Camaro</td>\n",
       "      <td>26500.0</td>\n",
       "    </tr>\n",
       "    <tr>\n",
       "      <th>Apr 25</th>\n",
       "      <td>(Knoxville)</td>\n",
       "      <td>07 cummins</td>\n",
       "      <td>20000.0</td>\n",
       "    </tr>\n",
       "    <tr>\n",
       "      <th>Apr 25</th>\n",
       "      <td>(~ Hummer_ H3_ Luxury)</td>\n",
       "      <td>2008 *Hummer* *H3* Luxury IN HOUSE FINANCE FRE...</td>\n",
       "      <td>14950.0</td>\n",
       "    </tr>\n",
       "  </tbody>\n",
       "</table>\n",
       "</div>"
      ],
      "text/plain": [
       "                                   location  \\\n",
       "Apr 25                 (downtown Asheville)   \n",
       "Apr 25   (2015 Mercedes-Benz Sprinter Vans)   \n",
       "Apr 25                             (marion)   \n",
       "Apr 25                          (Knoxville)   \n",
       "Apr 25               (~ Hummer_ H3_ Luxury)   \n",
       "\n",
       "                                                     name     price  \n",
       "Apr 25  2009 Toyota Tacoma, 4x4 102,000, ext. cab $13,900  139000.0  \n",
       "Apr 25  2015 Mercedes-Benz Sprinter Vans Van Sprinter ...   38189.0  \n",
       "Apr 25                                        1968 Camaro   26500.0  \n",
       "Apr 25                                         07 cummins   20000.0  \n",
       "Apr 25  2008 *Hummer* *H3* Luxury IN HOUSE FINANCE FRE...   14950.0  "
      ]
     },
     "execution_count": 7,
     "metadata": {},
     "output_type": "execute_result"
    }
   ],
   "source": [
    "#adjust price column to float type and sort values descending\n",
    "postings['price'] = postings['price'].replace('[\\$]','', regex=True ).astype(float)\n",
    "postings = postings.sort_values('price', ascending=False)\n",
    "postings.dtypes\n",
    "postings.head()"
   ]
  },
  {
   "cell_type": "markdown",
   "metadata": {
    "collapsed": true
   },
   "source": [
    "The location column will need to be normalized so make analysis more efficient.  I will need to remove all erroenous characters and capitalize all remaining characters."
   ]
  },
  {
   "cell_type": "code",
   "execution_count": 8,
   "metadata": {},
   "outputs": [
    {
     "data": {
      "text/html": [
       "<div>\n",
       "<style>\n",
       "    .dataframe thead tr:only-child th {\n",
       "        text-align: right;\n",
       "    }\n",
       "\n",
       "    .dataframe thead th {\n",
       "        text-align: left;\n",
       "    }\n",
       "\n",
       "    .dataframe tbody tr th {\n",
       "        vertical-align: top;\n",
       "    }\n",
       "</style>\n",
       "<table border=\"1\" class=\"dataframe\">\n",
       "  <thead>\n",
       "    <tr style=\"text-align: right;\">\n",
       "      <th></th>\n",
       "      <th>location</th>\n",
       "      <th>name</th>\n",
       "      <th>price</th>\n",
       "    </tr>\n",
       "  </thead>\n",
       "  <tbody>\n",
       "    <tr>\n",
       "      <th>Apr 25</th>\n",
       "      <td>downtown Asheville</td>\n",
       "      <td>2009 Toyota Tacoma, 4x4 102,000, ext. cab $13,900</td>\n",
       "      <td>139000.0</td>\n",
       "    </tr>\n",
       "    <tr>\n",
       "      <th>Apr 25</th>\n",
       "      <td>2015 Mercedes-Benz Sprinter Vans</td>\n",
       "      <td>2015 Mercedes-Benz Sprinter Vans Van Sprinter ...</td>\n",
       "      <td>38189.0</td>\n",
       "    </tr>\n",
       "    <tr>\n",
       "      <th>Apr 25</th>\n",
       "      <td>marion</td>\n",
       "      <td>1968 Camaro</td>\n",
       "      <td>26500.0</td>\n",
       "    </tr>\n",
       "    <tr>\n",
       "      <th>Apr 25</th>\n",
       "      <td>Knoxville</td>\n",
       "      <td>07 cummins</td>\n",
       "      <td>20000.0</td>\n",
       "    </tr>\n",
       "    <tr>\n",
       "      <th>Apr 25</th>\n",
       "      <td>Hummer H3 Luxury</td>\n",
       "      <td>2008 *Hummer* *H3* Luxury IN HOUSE FINANCE FRE...</td>\n",
       "      <td>14950.0</td>\n",
       "    </tr>\n",
       "  </tbody>\n",
       "</table>\n",
       "</div>"
      ],
      "text/plain": [
       "                                 location  \\\n",
       "Apr 25                 downtown Asheville   \n",
       "Apr 25   2015 Mercedes-Benz Sprinter Vans   \n",
       "Apr 25                             marion   \n",
       "Apr 25                          Knoxville   \n",
       "Apr 25                   Hummer H3 Luxury   \n",
       "\n",
       "                                                     name     price  \n",
       "Apr 25  2009 Toyota Tacoma, 4x4 102,000, ext. cab $13,900  139000.0  \n",
       "Apr 25  2015 Mercedes-Benz Sprinter Vans Van Sprinter ...   38189.0  \n",
       "Apr 25                                        1968 Camaro   26500.0  \n",
       "Apr 25                                         07 cummins   20000.0  \n",
       "Apr 25  2008 *Hummer* *H3* Luxury IN HOUSE FINANCE FRE...   14950.0  "
      ]
     },
     "execution_count": 8,
     "metadata": {},
     "output_type": "execute_result"
    }
   ],
   "source": [
    "# remove all non-letter characters from location column using regex\n",
    "postings['location'].replace(['\\(', ',', '~', '_' ,'\\)'], '', regex=True, inplace=True)\n",
    "postings.head()"
   ]
  },
  {
   "cell_type": "code",
   "execution_count": 9,
   "metadata": {},
   "outputs": [
    {
     "data": {
      "text/html": [
       "<div>\n",
       "<style>\n",
       "    .dataframe thead tr:only-child th {\n",
       "        text-align: right;\n",
       "    }\n",
       "\n",
       "    .dataframe thead th {\n",
       "        text-align: left;\n",
       "    }\n",
       "\n",
       "    .dataframe tbody tr th {\n",
       "        vertical-align: top;\n",
       "    }\n",
       "</style>\n",
       "<table border=\"1\" class=\"dataframe\">\n",
       "  <thead>\n",
       "    <tr style=\"text-align: right;\">\n",
       "      <th></th>\n",
       "      <th>location</th>\n",
       "      <th>name</th>\n",
       "      <th>price</th>\n",
       "    </tr>\n",
       "  </thead>\n",
       "  <tbody>\n",
       "    <tr>\n",
       "      <th>Apr 25</th>\n",
       "      <td>DOWNTOWN ASHEVILLE</td>\n",
       "      <td>2009 Toyota Tacoma, 4x4 102,000, ext. cab $13,900</td>\n",
       "      <td>139000.0</td>\n",
       "    </tr>\n",
       "    <tr>\n",
       "      <th>Apr 25</th>\n",
       "      <td>2015 MERCEDES-BENZ SPRINTER VANS</td>\n",
       "      <td>2015 Mercedes-Benz Sprinter Vans Van Sprinter ...</td>\n",
       "      <td>38189.0</td>\n",
       "    </tr>\n",
       "    <tr>\n",
       "      <th>Apr 25</th>\n",
       "      <td>MARION</td>\n",
       "      <td>1968 Camaro</td>\n",
       "      <td>26500.0</td>\n",
       "    </tr>\n",
       "    <tr>\n",
       "      <th>Apr 25</th>\n",
       "      <td>KNOXVILLE</td>\n",
       "      <td>07 cummins</td>\n",
       "      <td>20000.0</td>\n",
       "    </tr>\n",
       "    <tr>\n",
       "      <th>Apr 25</th>\n",
       "      <td>HUMMER H3 LUXURY</td>\n",
       "      <td>2008 *Hummer* *H3* Luxury IN HOUSE FINANCE FRE...</td>\n",
       "      <td>14950.0</td>\n",
       "    </tr>\n",
       "  </tbody>\n",
       "</table>\n",
       "</div>"
      ],
      "text/plain": [
       "                                 location  \\\n",
       "Apr 25                 DOWNTOWN ASHEVILLE   \n",
       "Apr 25   2015 MERCEDES-BENZ SPRINTER VANS   \n",
       "Apr 25                             MARION   \n",
       "Apr 25                          KNOXVILLE   \n",
       "Apr 25                   HUMMER H3 LUXURY   \n",
       "\n",
       "                                                     name     price  \n",
       "Apr 25  2009 Toyota Tacoma, 4x4 102,000, ext. cab $13,900  139000.0  \n",
       "Apr 25  2015 Mercedes-Benz Sprinter Vans Van Sprinter ...   38189.0  \n",
       "Apr 25                                        1968 Camaro   26500.0  \n",
       "Apr 25                                         07 cummins   20000.0  \n",
       "Apr 25  2008 *Hummer* *H3* Luxury IN HOUSE FINANCE FRE...   14950.0  "
      ]
     },
     "execution_count": 9,
     "metadata": {},
     "output_type": "execute_result"
    }
   ],
   "source": [
    "postings['location'] = postings['location'].apply(lambda x: x.upper())#upper-case locations\n",
    "postings = postings.sort_values(['price'], ascending=False)\n",
    "postings.head()"
   ]
  },
  {
   "cell_type": "markdown",
   "metadata": {
    "collapsed": true
   },
   "source": [
    "It appears there are a fair amount of erroenous locations in the dataframe.  To perform accurate analysis and visualization on items, I will need to consolidate and remove some of these locations."
   ]
  },
  {
   "cell_type": "code",
   "execution_count": 10,
   "metadata": {},
   "outputs": [
    {
     "data": {
      "text/plain": [
       "36"
      ]
     },
     "execution_count": 10,
     "metadata": {},
     "output_type": "execute_result"
    },
    {
     "data": {
      "text/plain": [
       "array([' DOWNTOWN ASHEVILLE', ' 2015 MERCEDES-BENZ SPRINTER VANS',\n",
       "       ' MARION', ' KNOXVILLE', '  HUMMER H3 LUXURY', ' GARAGETRS',\n",
       "       ' AMERICAN AUTO SALES', ' ASHEVILLE', ' HENDERSONVILLE',\n",
       "       ' GREENVILLE', ' HAYWOOD', ' FOREST CITY', ' RUTHERFORDTON',\n",
       "       ' NORTH ASHEVILLE', ' SWANNANOA', ' WEAVERVILLE', ' ETOWAH',\n",
       "       ' WAYNESVILLE NC', ' 224 SOUTH GROVE STREET UNIT L', ' WNC',\n",
       "       ' EAST ASHEVILLE', ' SPARTANBURG SC', ' CANDLER', ' FRANKLIN NC',\n",
       "       ' FLAT ROCK', ' OLD FORT', ' BREVARD NC', ' ASHEVILLE NC',\n",
       "       ' WEAVERVILLE N C', ' BREVARDNC', ' ASHEVILLE N C',\n",
       "       ' ASHEVILLE NEAR DOWNTOWN', ' NEAR ASHEVILLE AIRPORT',\n",
       "       ' WAYNESVILLE', ' DELIVERED', ' LEICESTER NC'], dtype=object)"
      ]
     },
     "execution_count": 10,
     "metadata": {},
     "output_type": "execute_result"
    }
   ],
   "source": [
    "len(postings.location.unique())\n",
    "postings.location.unique()"
   ]
  },
  {
   "cell_type": "code",
   "execution_count": 11,
   "metadata": {
    "collapsed": true
   },
   "outputs": [],
   "source": [
    "postings.loc[postings.location.str.contains('AMERICAN AUTO SALES'),'location'] = 'ARDEN'\n",
    "postings.loc[postings.location.str.contains('ASHEVILLE'),'location'] = 'ASHEVILLE'\n",
    "postings.loc[postings.location.str.contains('GARAGETRS'),'location'] = 'ASHEVILLE' #dealer in Asheville\n",
    "postings.loc[postings.location.str.contains('BREVARD'),'location'] = 'BREVARD'\n",
    "postings.loc[postings.location.str.contains('WAYNESVILLE'),'location'] = 'WAYNESVILLE'\n",
    "postings.loc[postings.location.str.contains('WEAVERVILLE'),'location'] = 'WEAVERVILLE'\n",
    "postings = postings[~postings.location.str.contains('KNOXVILLE')]#remove knoxville; distance too far and only one item.\n",
    "postings = postings[~postings.location.str.contains('SPARTANBURG')] #remove spartanburg; distance too far and only one item.\n",
    "postings = postings[~postings.location.str.contains('HUMMER H3 LUXURY')] #removed because location isn't provided; only one item.\n",
    "postings = postings[~postings.location.str.contains('2015 MERCEDES-BENZ SPRINTER VANS')] #removed because location isn't provided; only one item.\n",
    "postings = postings[~postings.location.str.contains('224 SOUTH GROVE STREET UNIT L')] #removed because irrelevant; room for rent, not item for sale."
   ]
  },
  {
   "cell_type": "code",
   "execution_count": 12,
   "metadata": {},
   "outputs": [
    {
     "data": {
      "text/plain": [
       "20"
      ]
     },
     "execution_count": 12,
     "metadata": {},
     "output_type": "execute_result"
    },
    {
     "data": {
      "text/plain": [
       "array(['ASHEVILLE', ' MARION', 'ARDEN', ' HENDERSONVILLE', ' GREENVILLE',\n",
       "       ' HAYWOOD', ' FOREST CITY', ' RUTHERFORDTON', ' SWANNANOA',\n",
       "       'WEAVERVILLE', ' ETOWAH', 'WAYNESVILLE', ' WNC', ' CANDLER',\n",
       "       ' FRANKLIN NC', ' FLAT ROCK', ' OLD FORT', 'BREVARD', ' DELIVERED',\n",
       "       ' LEICESTER NC'], dtype=object)"
      ]
     },
     "execution_count": 12,
     "metadata": {},
     "output_type": "execute_result"
    }
   ],
   "source": [
    "len(postings.location.unique())\n",
    "postings.location.unique()"
   ]
  },
  {
   "cell_type": "markdown",
   "metadata": {},
   "source": [
    "Now that the dataframe has been cleaned up a bit, I want to start to get a feel for the dispersion of prices of the items in the area."
   ]
  },
  {
   "cell_type": "code",
   "execution_count": 13,
   "metadata": {},
   "outputs": [
    {
     "data": {
      "image/png": "[encoded data removed]",
      "text/plain": [
       "<matplotlib.figure.Figure at 0x1a17c91780>"
      ]
     },
     "metadata": {},
     "output_type": "display_data"
    }
   ],
   "source": [
    "plt.figure(figsize=(9,9))\n",
    "plt.plot(postings.price.values, '.')\n",
    "# plt.figure(figsize=(9,9))\n",
    "plt.show();"
   ]
  },
  {
   "cell_type": "code",
   "execution_count": 14,
   "metadata": {},
   "outputs": [
    {
     "data": {
      "text/plain": [
       "75"
      ]
     },
     "execution_count": 14,
     "metadata": {},
     "output_type": "execute_result"
    },
    {
     "data": {
      "text/plain": [
       "18"
      ]
     },
     "execution_count": 14,
     "metadata": {},
     "output_type": "execute_result"
    }
   ],
   "source": [
    "len(postings.loc[postings.price < 1000, :])\n",
    "len(postings.loc[postings.price >= 1000, :])"
   ]
  },
  {
   "cell_type": "code",
   "execution_count": 15,
   "metadata": {},
   "outputs": [
    {
     "data": {
      "text/html": [
       "<div>\n",
       "<style>\n",
       "    .dataframe thead tr:only-child th {\n",
       "        text-align: right;\n",
       "    }\n",
       "\n",
       "    .dataframe thead th {\n",
       "        text-align: left;\n",
       "    }\n",
       "\n",
       "    .dataframe tbody tr th {\n",
       "        vertical-align: top;\n",
       "    }\n",
       "</style>\n",
       "<table border=\"1\" class=\"dataframe\">\n",
       "  <thead>\n",
       "    <tr style=\"text-align: right;\">\n",
       "      <th></th>\n",
       "      <th>location</th>\n",
       "      <th>name</th>\n",
       "      <th>price</th>\n",
       "    </tr>\n",
       "  </thead>\n",
       "  <tbody>\n",
       "    <tr>\n",
       "      <th>Apr 25</th>\n",
       "      <td>ASHEVILLE</td>\n",
       "      <td>2009 Toyota Tacoma, 4x4 102,000, ext. cab $13,900</td>\n",
       "      <td>139000.0</td>\n",
       "    </tr>\n",
       "    <tr>\n",
       "      <th>Apr 25</th>\n",
       "      <td>MARION</td>\n",
       "      <td>1968 Camaro</td>\n",
       "      <td>26500.0</td>\n",
       "    </tr>\n",
       "    <tr>\n",
       "      <th>Apr 25</th>\n",
       "      <td>ASHEVILLE</td>\n",
       "      <td>2015 Harley Davidson Softail Slim with Warrent...</td>\n",
       "      <td>12899.0</td>\n",
       "    </tr>\n",
       "    <tr>\n",
       "      <th>Apr 25</th>\n",
       "      <td>ARDEN</td>\n",
       "      <td>2006 SUBARU BAJA TURBO</td>\n",
       "      <td>9900.0</td>\n",
       "    </tr>\n",
       "    <tr>\n",
       "      <th>Apr 25</th>\n",
       "      <td>ASHEVILLE</td>\n",
       "      <td>MUST SELL!! NEED SPACE! 2013 Polaris RZR 800S LE</td>\n",
       "      <td>9499.0</td>\n",
       "    </tr>\n",
       "    <tr>\n",
       "      <th>Apr 25</th>\n",
       "      <td>ASHEVILLE</td>\n",
       "      <td>2007 Ford Mustang - Excellent Condition</td>\n",
       "      <td>8500.0</td>\n",
       "    </tr>\n",
       "    <tr>\n",
       "      <th>Apr 25</th>\n",
       "      <td>HENDERSONVILLE</td>\n",
       "      <td>Ford explorer</td>\n",
       "      <td>7500.0</td>\n",
       "    </tr>\n",
       "    <tr>\n",
       "      <th>Apr 25</th>\n",
       "      <td>GREENVILLE</td>\n",
       "      <td>2017 ktm 250sx BRAND NEW NEVER CRANKED</td>\n",
       "      <td>7500.0</td>\n",
       "    </tr>\n",
       "    <tr>\n",
       "      <th>Apr 25</th>\n",
       "      <td>HAYWOOD</td>\n",
       "      <td>98 Jeep Wrangler</td>\n",
       "      <td>7000.0</td>\n",
       "    </tr>\n",
       "    <tr>\n",
       "      <th>Apr 25</th>\n",
       "      <td>ARDEN</td>\n",
       "      <td>2003 HONDA ELEMENT AWD</td>\n",
       "      <td>5900.0</td>\n",
       "    </tr>\n",
       "  </tbody>\n",
       "</table>\n",
       "</div>"
      ],
      "text/plain": [
       "               location                                               name  \\\n",
       "Apr 25        ASHEVILLE  2009 Toyota Tacoma, 4x4 102,000, ext. cab $13,900   \n",
       "Apr 25           MARION                                        1968 Camaro   \n",
       "Apr 25        ASHEVILLE  2015 Harley Davidson Softail Slim with Warrent...   \n",
       "Apr 25            ARDEN                             2006 SUBARU BAJA TURBO   \n",
       "Apr 25        ASHEVILLE   MUST SELL!! NEED SPACE! 2013 Polaris RZR 800S LE   \n",
       "Apr 25        ASHEVILLE            2007 Ford Mustang - Excellent Condition   \n",
       "Apr 25   HENDERSONVILLE                                      Ford explorer   \n",
       "Apr 25       GREENVILLE             2017 ktm 250sx BRAND NEW NEVER CRANKED   \n",
       "Apr 25          HAYWOOD                                   98 Jeep Wrangler   \n",
       "Apr 25            ARDEN                             2003 HONDA ELEMENT AWD   \n",
       "\n",
       "           price  \n",
       "Apr 25  139000.0  \n",
       "Apr 25   26500.0  \n",
       "Apr 25   12899.0  \n",
       "Apr 25    9900.0  \n",
       "Apr 25    9499.0  \n",
       "Apr 25    8500.0  \n",
       "Apr 25    7500.0  \n",
       "Apr 25    7500.0  \n",
       "Apr 25    7000.0  \n",
       "Apr 25    5900.0  "
      ]
     },
     "execution_count": 15,
     "metadata": {},
     "output_type": "execute_result"
    },
    {
     "data": {
      "text/html": [
       "<div>\n",
       "<style>\n",
       "    .dataframe thead tr:only-child th {\n",
       "        text-align: right;\n",
       "    }\n",
       "\n",
       "    .dataframe thead th {\n",
       "        text-align: left;\n",
       "    }\n",
       "\n",
       "    .dataframe tbody tr th {\n",
       "        vertical-align: top;\n",
       "    }\n",
       "</style>\n",
       "<table border=\"1\" class=\"dataframe\">\n",
       "  <thead>\n",
       "    <tr style=\"text-align: right;\">\n",
       "      <th></th>\n",
       "      <th>location</th>\n",
       "      <th>name</th>\n",
       "      <th>price</th>\n",
       "    </tr>\n",
       "  </thead>\n",
       "  <tbody>\n",
       "    <tr>\n",
       "      <th>Apr 25</th>\n",
       "      <td>ASHEVILLE</td>\n",
       "      <td>PT 609 Pro Mag.</td>\n",
       "      <td>12.0</td>\n",
       "    </tr>\n",
       "    <tr>\n",
       "      <th>Apr 25</th>\n",
       "      <td>ASHEVILLE</td>\n",
       "      <td>Brand New Verbatim pack of 30 DVD-r</td>\n",
       "      <td>10.0</td>\n",
       "    </tr>\n",
       "    <tr>\n",
       "      <th>Apr 25</th>\n",
       "      <td>BREVARD</td>\n",
       "      <td>2 RCA Speaker</td>\n",
       "      <td>10.0</td>\n",
       "    </tr>\n",
       "    <tr>\n",
       "      <th>Apr 25</th>\n",
       "      <td>WAYNESVILLE</td>\n",
       "      <td>Car Batteries $5 for bad $10 for good</td>\n",
       "      <td>10.0</td>\n",
       "    </tr>\n",
       "    <tr>\n",
       "      <th>Apr 25</th>\n",
       "      <td>DELIVERED</td>\n",
       "      <td>Premium Horse Hay!  2017 Production</td>\n",
       "      <td>7.0</td>\n",
       "    </tr>\n",
       "    <tr>\n",
       "      <th>Apr 25</th>\n",
       "      <td>LEICESTER NC</td>\n",
       "      <td>All Man Magazine - 1959</td>\n",
       "      <td>3.0</td>\n",
       "    </tr>\n",
       "    <tr>\n",
       "      <th>Apr 25</th>\n",
       "      <td>MARION</td>\n",
       "      <td>1994 Honda Civic 2 Dr Coupe</td>\n",
       "      <td>2.0</td>\n",
       "    </tr>\n",
       "    <tr>\n",
       "      <th>Apr 25</th>\n",
       "      <td>WAYNESVILLE</td>\n",
       "      <td>2008 Kia Sedona parts</td>\n",
       "      <td>1.0</td>\n",
       "    </tr>\n",
       "    <tr>\n",
       "      <th>Apr 25</th>\n",
       "      <td>WAYNESVILLE</td>\n",
       "      <td>2006 Chrysler 300 parts</td>\n",
       "      <td>1.0</td>\n",
       "    </tr>\n",
       "    <tr>\n",
       "      <th>Apr 25</th>\n",
       "      <td>ASHEVILLE</td>\n",
       "      <td>WTB Vintage Mandolins, Violins, Guitars</td>\n",
       "      <td>1.0</td>\n",
       "    </tr>\n",
       "  </tbody>\n",
       "</table>\n",
       "</div>"
      ],
      "text/plain": [
       "             location                                     name  price\n",
       "Apr 25      ASHEVILLE                          PT 609 Pro Mag.   12.0\n",
       "Apr 25      ASHEVILLE      Brand New Verbatim pack of 30 DVD-r   10.0\n",
       "Apr 25        BREVARD                            2 RCA Speaker   10.0\n",
       "Apr 25    WAYNESVILLE    Car Batteries $5 for bad $10 for good   10.0\n",
       "Apr 25      DELIVERED      Premium Horse Hay!  2017 Production    7.0\n",
       "Apr 25   LEICESTER NC                  All Man Magazine - 1959    3.0\n",
       "Apr 25         MARION              1994 Honda Civic 2 Dr Coupe    2.0\n",
       "Apr 25    WAYNESVILLE                    2008 Kia Sedona parts    1.0\n",
       "Apr 25    WAYNESVILLE                  2006 Chrysler 300 parts    1.0\n",
       "Apr 25      ASHEVILLE  WTB Vintage Mandolins, Violins, Guitars    1.0"
      ]
     },
     "execution_count": 15,
     "metadata": {},
     "output_type": "execute_result"
    }
   ],
   "source": [
    "postings.head(10)\n",
    "postings.tail(10)"
   ]
  },
  {
   "cell_type": "markdown",
   "metadata": {},
   "source": [
    "It appears the most expensive items in the area are motor vehicles.  A fair amount of the least expensive items are vehicle related as well.  It also appears that there is one item that is abnormally high.  It will be best to remove this anamolous item so that it doesn't skew the data.\n",
    "\n",
    "Let's also take a look at items grouped by their locations.  I'm interested in finding out how much potential value is available per each location around where I live. "
   ]
  },
  {
   "cell_type": "code",
   "execution_count": 16,
   "metadata": {},
   "outputs": [
    {
     "data": {
      "text/html": [
       "<div>\n",
       "<style>\n",
       "    .dataframe thead tr:only-child th {\n",
       "        text-align: right;\n",
       "    }\n",
       "\n",
       "    .dataframe thead th {\n",
       "        text-align: left;\n",
       "    }\n",
       "\n",
       "    .dataframe tbody tr th {\n",
       "        vertical-align: top;\n",
       "    }\n",
       "</style>\n",
       "<table border=\"1\" class=\"dataframe\">\n",
       "  <thead>\n",
       "    <tr style=\"text-align: right;\">\n",
       "      <th></th>\n",
       "      <th>location</th>\n",
       "      <th>name</th>\n",
       "      <th>price</th>\n",
       "    </tr>\n",
       "  </thead>\n",
       "  <tbody>\n",
       "    <tr>\n",
       "      <th>Apr 25</th>\n",
       "      <td>ASHEVILLE</td>\n",
       "      <td>2009 Toyota Tacoma, 4x4 102,000, ext. cab $13,900</td>\n",
       "      <td>139000.0</td>\n",
       "    </tr>\n",
       "  </tbody>\n",
       "</table>\n",
       "</div>"
      ],
      "text/plain": [
       "         location                                               name     price\n",
       "Apr 25  ASHEVILLE  2009 Toyota Tacoma, 4x4 102,000, ext. cab $13,900  139000.0"
      ]
     },
     "execution_count": 16,
     "metadata": {},
     "output_type": "execute_result"
    },
    {
     "data": {
      "text/html": [
       "<div>\n",
       "<style>\n",
       "    .dataframe thead tr:only-child th {\n",
       "        text-align: right;\n",
       "    }\n",
       "\n",
       "    .dataframe thead th {\n",
       "        text-align: left;\n",
       "    }\n",
       "\n",
       "    .dataframe tbody tr th {\n",
       "        vertical-align: top;\n",
       "    }\n",
       "</style>\n",
       "<table border=\"1\" class=\"dataframe\">\n",
       "  <thead>\n",
       "    <tr style=\"text-align: right;\">\n",
       "      <th></th>\n",
       "      <th>sum</th>\n",
       "    </tr>\n",
       "    <tr>\n",
       "      <th>location</th>\n",
       "      <th></th>\n",
       "    </tr>\n",
       "  </thead>\n",
       "  <tbody>\n",
       "    <tr>\n",
       "      <th>CANDLER</th>\n",
       "      <td>305.0</td>\n",
       "    </tr>\n",
       "    <tr>\n",
       "      <th>DELIVERED</th>\n",
       "      <td>7.0</td>\n",
       "    </tr>\n",
       "    <tr>\n",
       "      <th>ETOWAH</th>\n",
       "      <td>500.0</td>\n",
       "    </tr>\n",
       "    <tr>\n",
       "      <th>FLAT ROCK</th>\n",
       "      <td>175.0</td>\n",
       "    </tr>\n",
       "    <tr>\n",
       "      <th>FOREST CITY</th>\n",
       "      <td>2000.0</td>\n",
       "    </tr>\n",
       "    <tr>\n",
       "      <th>FRANKLIN NC</th>\n",
       "      <td>200.0</td>\n",
       "    </tr>\n",
       "    <tr>\n",
       "      <th>GREENVILLE</th>\n",
       "      <td>10000.0</td>\n",
       "    </tr>\n",
       "    <tr>\n",
       "      <th>HAYWOOD</th>\n",
       "      <td>7000.0</td>\n",
       "    </tr>\n",
       "    <tr>\n",
       "      <th>HENDERSONVILLE</th>\n",
       "      <td>8639.0</td>\n",
       "    </tr>\n",
       "    <tr>\n",
       "      <th>LEICESTER NC</th>\n",
       "      <td>3.0</td>\n",
       "    </tr>\n",
       "    <tr>\n",
       "      <th>MARION</th>\n",
       "      <td>26502.0</td>\n",
       "    </tr>\n",
       "    <tr>\n",
       "      <th>OLD FORT</th>\n",
       "      <td>300.0</td>\n",
       "    </tr>\n",
       "    <tr>\n",
       "      <th>RUTHERFORDTON</th>\n",
       "      <td>1200.0</td>\n",
       "    </tr>\n",
       "    <tr>\n",
       "      <th>SWANNANOA</th>\n",
       "      <td>2250.0</td>\n",
       "    </tr>\n",
       "    <tr>\n",
       "      <th>WNC</th>\n",
       "      <td>250.0</td>\n",
       "    </tr>\n",
       "    <tr>\n",
       "      <th>ARDEN</th>\n",
       "      <td>21700.0</td>\n",
       "    </tr>\n",
       "    <tr>\n",
       "      <th>ASHEVILLE</th>\n",
       "      <td>48678.0</td>\n",
       "    </tr>\n",
       "    <tr>\n",
       "      <th>BREVARD</th>\n",
       "      <td>719.0</td>\n",
       "    </tr>\n",
       "    <tr>\n",
       "      <th>WAYNESVILLE</th>\n",
       "      <td>987.0</td>\n",
       "    </tr>\n",
       "    <tr>\n",
       "      <th>WEAVERVILLE</th>\n",
       "      <td>755.0</td>\n",
       "    </tr>\n",
       "  </tbody>\n",
       "</table>\n",
       "</div>"
      ],
      "text/plain": [
       "                     sum\n",
       "location                \n",
       " CANDLER           305.0\n",
       " DELIVERED           7.0\n",
       " ETOWAH            500.0\n",
       " FLAT ROCK         175.0\n",
       " FOREST CITY      2000.0\n",
       " FRANKLIN NC       200.0\n",
       " GREENVILLE      10000.0\n",
       " HAYWOOD          7000.0\n",
       " HENDERSONVILLE   8639.0\n",
       " LEICESTER NC        3.0\n",
       " MARION          26502.0\n",
       " OLD FORT          300.0\n",
       " RUTHERFORDTON    1200.0\n",
       " SWANNANOA        2250.0\n",
       " WNC               250.0\n",
       "ARDEN            21700.0\n",
       "ASHEVILLE        48678.0\n",
       "BREVARD            719.0\n",
       "WAYNESVILLE        987.0\n",
       "WEAVERVILLE        755.0"
      ]
     },
     "execution_count": 16,
     "metadata": {},
     "output_type": "execute_result"
    }
   ],
   "source": [
    "postings[postings.price==postings.price.max()] #Thats an expensive Tacoma!! Probably just a typo, but removing to avoid assumptions.\n",
    "postings = postings.loc[~postings.name.str.contains('2009 Toyota Tacoma, 4x4 102,000'),['location', 'name', 'price']] \n",
    "\n",
    "#group by location; get the sum of each location\n",
    "postings.groupby(['location']).agg(['sum']).loc[:,'price']\n"
   ]
  },
  {
   "cell_type": "markdown",
   "metadata": {},
   "source": [
    "Now that the anamolous item is removed, let's take a look at the most expensive item avaiable in the area is.  We'll also visualize each location via a boxplot."
   ]
  },
  {
   "cell_type": "code",
   "execution_count": 17,
   "metadata": {},
   "outputs": [
    {
     "data": {
      "text/html": [
       "<div>\n",
       "<style>\n",
       "    .dataframe thead tr:only-child th {\n",
       "        text-align: right;\n",
       "    }\n",
       "\n",
       "    .dataframe thead th {\n",
       "        text-align: left;\n",
       "    }\n",
       "\n",
       "    .dataframe tbody tr th {\n",
       "        vertical-align: top;\n",
       "    }\n",
       "</style>\n",
       "<table border=\"1\" class=\"dataframe\">\n",
       "  <thead>\n",
       "    <tr style=\"text-align: right;\">\n",
       "      <th></th>\n",
       "      <th>location</th>\n",
       "      <th>name</th>\n",
       "      <th>price</th>\n",
       "    </tr>\n",
       "  </thead>\n",
       "  <tbody>\n",
       "    <tr>\n",
       "      <th>Apr 25</th>\n",
       "      <td>MARION</td>\n",
       "      <td>1968 Camaro</td>\n",
       "      <td>26500.0</td>\n",
       "    </tr>\n",
       "  </tbody>\n",
       "</table>\n",
       "</div>"
      ],
      "text/plain": [
       "       location         name    price\n",
       "Apr 25   MARION  1968 Camaro  26500.0"
      ]
     },
     "execution_count": 17,
     "metadata": {},
     "output_type": "execute_result"
    }
   ],
   "source": [
    "postings.loc[postings.price == postings.price.max(),]"
   ]
  },
  {
   "cell_type": "code",
   "execution_count": 53,
   "metadata": {
    "scrolled": true
   },
   "outputs": [
    {
     "name": "stderr",
     "output_type": "stream",
     "text": [
      "/anaconda3/lib/python3.6/site-packages/numpy/core/fromnumeric.py:57: FutureWarning: reshape is deprecated and will raise in a subsequent release. Please use .values.reshape(...) instead\n",
      "  return getattr(obj, method)(*args, **kwds)\n"
     ]
    },
    {
     "data": {
      "image/png": "[encoded data removed]",
      "text/plain": [
       "<matplotlib.figure.Figure at 0x1a22264588>"
      ]
     },
     "metadata": {},
     "output_type": "display_data"
    }
   ],
   "source": [
    "#update df to remove name column; necessary for clean boxplot visualization.\n",
    "postings_bp = postings.loc[:, ['location', 'price']]\n",
    "\n",
    "#create a boxplot; adjust x-axis labels so they are visible. specify labels and title.  \n",
    "postings_bp.boxplot(column='price', by='location',figsize=(10,10))\n",
    "plt.xticks(rotation='vertical')\n",
    "plt.xlabel('Location')\n",
    "plt.ylabel('Price')\n",
    "plt.title('Items Nearby')\n",
    "plt.show();"
   ]
  },
  {
   "cell_type": "markdown",
   "metadata": {},
   "source": [
    "The boxplot still appears to be cluttered with anomalous items. I'll need to clean this up and replot the items.\n",
    "But first, let's take a closer look at the vehicles for sale in the area to see how they are affecting the dataset."
   ]
  },
  {
   "cell_type": "code",
   "execution_count": 19,
   "metadata": {},
   "outputs": [
    {
     "data": {
      "text/html": [
       "<div>\n",
       "<style>\n",
       "    .dataframe thead tr:only-child th {\n",
       "        text-align: right;\n",
       "    }\n",
       "\n",
       "    .dataframe thead th {\n",
       "        text-align: left;\n",
       "    }\n",
       "\n",
       "    .dataframe tbody tr th {\n",
       "        vertical-align: top;\n",
       "    }\n",
       "</style>\n",
       "<table border=\"1\" class=\"dataframe\">\n",
       "  <thead>\n",
       "    <tr style=\"text-align: right;\">\n",
       "      <th></th>\n",
       "      <th>location</th>\n",
       "      <th>name</th>\n",
       "      <th>price</th>\n",
       "    </tr>\n",
       "  </thead>\n",
       "  <tbody>\n",
       "    <tr>\n",
       "      <th>Apr 25</th>\n",
       "      <td>MARION</td>\n",
       "      <td>1968 Camaro</td>\n",
       "      <td>26500.0</td>\n",
       "    </tr>\n",
       "    <tr>\n",
       "      <th>Apr 25</th>\n",
       "      <td>ASHEVILLE</td>\n",
       "      <td>2015 Harley Davidson Softail Slim with Warrent...</td>\n",
       "      <td>12899.0</td>\n",
       "    </tr>\n",
       "    <tr>\n",
       "      <th>Apr 25</th>\n",
       "      <td>ARDEN</td>\n",
       "      <td>2006 SUBARU BAJA TURBO</td>\n",
       "      <td>9900.0</td>\n",
       "    </tr>\n",
       "    <tr>\n",
       "      <th>Apr 25</th>\n",
       "      <td>ASHEVILLE</td>\n",
       "      <td>MUST SELL!! NEED SPACE! 2013 Polaris RZR 800S LE</td>\n",
       "      <td>9499.0</td>\n",
       "    </tr>\n",
       "    <tr>\n",
       "      <th>Apr 25</th>\n",
       "      <td>ASHEVILLE</td>\n",
       "      <td>2007 Ford Mustang - Excellent Condition</td>\n",
       "      <td>8500.0</td>\n",
       "    </tr>\n",
       "    <tr>\n",
       "      <th>Apr 25</th>\n",
       "      <td>HENDERSONVILLE</td>\n",
       "      <td>Ford explorer</td>\n",
       "      <td>7500.0</td>\n",
       "    </tr>\n",
       "    <tr>\n",
       "      <th>Apr 25</th>\n",
       "      <td>GREENVILLE</td>\n",
       "      <td>2017 ktm 250sx BRAND NEW NEVER CRANKED</td>\n",
       "      <td>7500.0</td>\n",
       "    </tr>\n",
       "    <tr>\n",
       "      <th>Apr 25</th>\n",
       "      <td>HAYWOOD</td>\n",
       "      <td>98 Jeep Wrangler</td>\n",
       "      <td>7000.0</td>\n",
       "    </tr>\n",
       "    <tr>\n",
       "      <th>Apr 25</th>\n",
       "      <td>ARDEN</td>\n",
       "      <td>2003 HONDA ELEMENT AWD</td>\n",
       "      <td>5900.0</td>\n",
       "    </tr>\n",
       "    <tr>\n",
       "      <th>Apr 25</th>\n",
       "      <td>ARDEN</td>\n",
       "      <td>2006 HONDA ACCORD</td>\n",
       "      <td>5900.0</td>\n",
       "    </tr>\n",
       "    <tr>\n",
       "      <th>Apr 25</th>\n",
       "      <td>ASHEVILLE</td>\n",
       "      <td>2000 Jeep Cherokee Sport 4.0</td>\n",
       "      <td>4900.0</td>\n",
       "    </tr>\n",
       "    <tr>\n",
       "      <th>Apr 25</th>\n",
       "      <td>ASHEVILLE</td>\n",
       "      <td>2015 Hyosung Aquila GV250 PERFECT Starter Bike!</td>\n",
       "      <td>3499.0</td>\n",
       "    </tr>\n",
       "    <tr>\n",
       "      <th>Apr 25</th>\n",
       "      <td>GREENVILLE</td>\n",
       "      <td>02 Ford Excursion v10</td>\n",
       "      <td>2500.0</td>\n",
       "    </tr>\n",
       "    <tr>\n",
       "      <th>Apr 25</th>\n",
       "      <td>ASHEVILLE</td>\n",
       "      <td>2004 Dodge Ram 2500 ^_^Great Body No Rust^_^</td>\n",
       "      <td>2075.0</td>\n",
       "    </tr>\n",
       "    <tr>\n",
       "      <th>Apr 25</th>\n",
       "      <td>FOREST CITY</td>\n",
       "      <td>HARLEY DAVIDSON seats  Ford Super Duty</td>\n",
       "      <td>2000.0</td>\n",
       "    </tr>\n",
       "    <tr>\n",
       "      <th>Apr 25</th>\n",
       "      <td>ASHEVILLE</td>\n",
       "      <td>Ford explorer</td>\n",
       "      <td>1800.0</td>\n",
       "    </tr>\n",
       "  </tbody>\n",
       "</table>\n",
       "</div>"
      ],
      "text/plain": [
       "               location                                               name  \\\n",
       "Apr 25           MARION                                        1968 Camaro   \n",
       "Apr 25        ASHEVILLE  2015 Harley Davidson Softail Slim with Warrent...   \n",
       "Apr 25            ARDEN                             2006 SUBARU BAJA TURBO   \n",
       "Apr 25        ASHEVILLE   MUST SELL!! NEED SPACE! 2013 Polaris RZR 800S LE   \n",
       "Apr 25        ASHEVILLE            2007 Ford Mustang - Excellent Condition   \n",
       "Apr 25   HENDERSONVILLE                                      Ford explorer   \n",
       "Apr 25       GREENVILLE             2017 ktm 250sx BRAND NEW NEVER CRANKED   \n",
       "Apr 25          HAYWOOD                                   98 Jeep Wrangler   \n",
       "Apr 25            ARDEN                             2003 HONDA ELEMENT AWD   \n",
       "Apr 25            ARDEN                                  2006 HONDA ACCORD   \n",
       "Apr 25        ASHEVILLE                       2000 Jeep Cherokee Sport 4.0   \n",
       "Apr 25        ASHEVILLE    2015 Hyosung Aquila GV250 PERFECT Starter Bike!   \n",
       "Apr 25       GREENVILLE                              02 Ford Excursion v10   \n",
       "Apr 25        ASHEVILLE       2004 Dodge Ram 2500 ^_^Great Body No Rust^_^   \n",
       "Apr 25      FOREST CITY             HARLEY DAVIDSON seats  Ford Super Duty   \n",
       "Apr 25        ASHEVILLE                                      Ford explorer   \n",
       "\n",
       "          price  \n",
       "Apr 25  26500.0  \n",
       "Apr 25  12899.0  \n",
       "Apr 25   9900.0  \n",
       "Apr 25   9499.0  \n",
       "Apr 25   8500.0  \n",
       "Apr 25   7500.0  \n",
       "Apr 25   7500.0  \n",
       "Apr 25   7000.0  \n",
       "Apr 25   5900.0  \n",
       "Apr 25   5900.0  \n",
       "Apr 25   4900.0  \n",
       "Apr 25   3499.0  \n",
       "Apr 25   2500.0  \n",
       "Apr 25   2075.0  \n",
       "Apr 25   2000.0  \n",
       "Apr 25   1800.0  "
      ]
     },
     "execution_count": 19,
     "metadata": {},
     "output_type": "execute_result"
    }
   ],
   "source": [
    "# vehicles are skewing boxplot too much; all rows at or above 1.8k appear to be motor vehicles. \n",
    "motor_vehicles = postings.loc[postings.price >= 1800.0, :]\n",
    "motor_vehicles"
   ]
  },
  {
   "cell_type": "code",
   "execution_count": 20,
   "metadata": {},
   "outputs": [
    {
     "data": {
      "image/png": "[encoded data removed]",
      "text/plain": [
       "<matplotlib.figure.Figure at 0x1a205860b8>"
      ]
     },
     "metadata": {},
     "output_type": "display_data"
    }
   ],
   "source": [
    "motor_vehicles.plot.bar('name', 'price', figsize=(9,9))\n",
    "plt.ylabel(\"Price\")\n",
    "plt.xlabel(\"Vehicle\")\n",
    "plt.show();"
   ]
  },
  {
   "cell_type": "markdown",
   "metadata": {},
   "source": [
    "Now that we've taken a closer look at the vehicles in the area, lets remove them and examine the remaining items."
   ]
  },
  {
   "cell_type": "code",
   "execution_count": 21,
   "metadata": {},
   "outputs": [
    {
     "data": {
      "text/html": [
       "<div>\n",
       "<style>\n",
       "    .dataframe thead tr:only-child th {\n",
       "        text-align: right;\n",
       "    }\n",
       "\n",
       "    .dataframe thead th {\n",
       "        text-align: left;\n",
       "    }\n",
       "\n",
       "    .dataframe tbody tr th {\n",
       "        vertical-align: top;\n",
       "    }\n",
       "</style>\n",
       "<table border=\"1\" class=\"dataframe\">\n",
       "  <thead>\n",
       "    <tr style=\"text-align: right;\">\n",
       "      <th></th>\n",
       "      <th>price</th>\n",
       "    </tr>\n",
       "  </thead>\n",
       "  <tbody>\n",
       "    <tr>\n",
       "      <th>count</th>\n",
       "      <td>76.000000</td>\n",
       "    </tr>\n",
       "    <tr>\n",
       "      <th>mean</th>\n",
       "      <td>188.131579</td>\n",
       "    </tr>\n",
       "    <tr>\n",
       "      <th>std</th>\n",
       "      <td>238.855401</td>\n",
       "    </tr>\n",
       "    <tr>\n",
       "      <th>min</th>\n",
       "      <td>1.000000</td>\n",
       "    </tr>\n",
       "    <tr>\n",
       "      <th>25%</th>\n",
       "      <td>28.000000</td>\n",
       "    </tr>\n",
       "    <tr>\n",
       "      <th>50%</th>\n",
       "      <td>89.500000</td>\n",
       "    </tr>\n",
       "    <tr>\n",
       "      <th>75%</th>\n",
       "      <td>250.000000</td>\n",
       "    </tr>\n",
       "    <tr>\n",
       "      <th>max</th>\n",
       "      <td>1200.000000</td>\n",
       "    </tr>\n",
       "  </tbody>\n",
       "</table>\n",
       "</div>"
      ],
      "text/plain": [
       "             price\n",
       "count    76.000000\n",
       "mean    188.131579\n",
       "std     238.855401\n",
       "min       1.000000\n",
       "25%      28.000000\n",
       "50%      89.500000\n",
       "75%     250.000000\n",
       "max    1200.000000"
      ]
     },
     "execution_count": 21,
     "metadata": {},
     "output_type": "execute_result"
    }
   ],
   "source": [
    "#new dataframe created to remove motor vehicles\n",
    "non_mv = postings.loc[postings.price < 1800.0, :]\n",
    "non_mv.describe()"
   ]
  },
  {
   "cell_type": "code",
   "execution_count": 22,
   "metadata": {},
   "outputs": [
    {
     "data": {
      "text/html": [
       "<div>\n",
       "<style>\n",
       "    .dataframe thead tr:only-child th {\n",
       "        text-align: right;\n",
       "    }\n",
       "\n",
       "    .dataframe thead th {\n",
       "        text-align: left;\n",
       "    }\n",
       "\n",
       "    .dataframe tbody tr th {\n",
       "        vertical-align: top;\n",
       "    }\n",
       "</style>\n",
       "<table border=\"1\" class=\"dataframe\">\n",
       "  <thead>\n",
       "    <tr style=\"text-align: right;\">\n",
       "      <th></th>\n",
       "      <th>location</th>\n",
       "      <th>name</th>\n",
       "      <th>price</th>\n",
       "    </tr>\n",
       "  </thead>\n",
       "  <tbody>\n",
       "    <tr>\n",
       "      <th>Apr 25</th>\n",
       "      <td>RUTHERFORDTON</td>\n",
       "      <td>Vintage Porcelain True Value Sign</td>\n",
       "      <td>1200.0</td>\n",
       "    </tr>\n",
       "    <tr>\n",
       "      <th>Apr 25</th>\n",
       "      <td>ASHEVILLE</td>\n",
       "      <td>Canon 5D MK II Body - Low Shutter Count</td>\n",
       "      <td>900.0</td>\n",
       "    </tr>\n",
       "    <tr>\n",
       "      <th>Apr 25</th>\n",
       "      <td>HENDERSONVILLE</td>\n",
       "      <td>Wedding Dress</td>\n",
       "      <td>800.0</td>\n",
       "    </tr>\n",
       "    <tr>\n",
       "      <th>Apr 25</th>\n",
       "      <td>ASHEVILLE</td>\n",
       "      <td>Antique Oak Cabinet/Bookcase</td>\n",
       "      <td>625.0</td>\n",
       "    </tr>\n",
       "    <tr>\n",
       "      <th>Apr 25</th>\n",
       "      <td>ASHEVILLE</td>\n",
       "      <td>Mission Oak Antique Cabinet/Bookcase</td>\n",
       "      <td>625.0</td>\n",
       "    </tr>\n",
       "    <tr>\n",
       "      <th>Apr 25</th>\n",
       "      <td>ASHEVILLE</td>\n",
       "      <td>Mission Oak Cabinet/Bookcase</td>\n",
       "      <td>625.0</td>\n",
       "    </tr>\n",
       "    <tr>\n",
       "      <th>Apr 25</th>\n",
       "      <td>SWANNANOA</td>\n",
       "      <td>27\" iMac (Late 2009)</td>\n",
       "      <td>600.0</td>\n",
       "    </tr>\n",
       "    <tr>\n",
       "      <th>Apr 25</th>\n",
       "      <td>WEAVERVILLE</td>\n",
       "      <td>Canon EF 17-35mm f/2.8 L USM Lens -Exc</td>\n",
       "      <td>525.0</td>\n",
       "    </tr>\n",
       "    <tr>\n",
       "      <th>Apr 25</th>\n",
       "      <td>WAYNESVILLE</td>\n",
       "      <td>Large 6' - 8' Solid Wood Dining Table with 8 c...</td>\n",
       "      <td>500.0</td>\n",
       "    </tr>\n",
       "    <tr>\n",
       "      <th>Apr 25</th>\n",
       "      <td>ASHEVILLE</td>\n",
       "      <td>Moe's Home Collection Colvin Sideboard in Natural</td>\n",
       "      <td>500.0</td>\n",
       "    </tr>\n",
       "  </tbody>\n",
       "</table>\n",
       "</div>"
      ],
      "text/plain": [
       "               location                                               name  \\\n",
       "Apr 25    RUTHERFORDTON                  Vintage Porcelain True Value Sign   \n",
       "Apr 25        ASHEVILLE            Canon 5D MK II Body - Low Shutter Count   \n",
       "Apr 25   HENDERSONVILLE                                      Wedding Dress   \n",
       "Apr 25        ASHEVILLE                       Antique Oak Cabinet/Bookcase   \n",
       "Apr 25        ASHEVILLE               Mission Oak Antique Cabinet/Bookcase   \n",
       "Apr 25        ASHEVILLE                       Mission Oak Cabinet/Bookcase   \n",
       "Apr 25        SWANNANOA                               27\" iMac (Late 2009)   \n",
       "Apr 25      WEAVERVILLE             Canon EF 17-35mm f/2.8 L USM Lens -Exc   \n",
       "Apr 25      WAYNESVILLE  Large 6' - 8' Solid Wood Dining Table with 8 c...   \n",
       "Apr 25        ASHEVILLE  Moe's Home Collection Colvin Sideboard in Natural   \n",
       "\n",
       "         price  \n",
       "Apr 25  1200.0  \n",
       "Apr 25   900.0  \n",
       "Apr 25   800.0  \n",
       "Apr 25   625.0  \n",
       "Apr 25   625.0  \n",
       "Apr 25   625.0  \n",
       "Apr 25   600.0  \n",
       "Apr 25   525.0  \n",
       "Apr 25   500.0  \n",
       "Apr 25   500.0  "
      ]
     },
     "execution_count": 22,
     "metadata": {},
     "output_type": "execute_result"
    },
    {
     "data": {
      "text/html": [
       "<div>\n",
       "<style>\n",
       "    .dataframe thead tr:only-child th {\n",
       "        text-align: right;\n",
       "    }\n",
       "\n",
       "    .dataframe thead th {\n",
       "        text-align: left;\n",
       "    }\n",
       "\n",
       "    .dataframe tbody tr th {\n",
       "        vertical-align: top;\n",
       "    }\n",
       "</style>\n",
       "<table border=\"1\" class=\"dataframe\">\n",
       "  <thead>\n",
       "    <tr style=\"text-align: right;\">\n",
       "      <th></th>\n",
       "      <th>location</th>\n",
       "      <th>name</th>\n",
       "      <th>price</th>\n",
       "    </tr>\n",
       "  </thead>\n",
       "  <tbody>\n",
       "    <tr>\n",
       "      <th>Apr 25</th>\n",
       "      <td>ASHEVILLE</td>\n",
       "      <td>PT 609 Pro Mag.</td>\n",
       "      <td>12.0</td>\n",
       "    </tr>\n",
       "    <tr>\n",
       "      <th>Apr 25</th>\n",
       "      <td>WAYNESVILLE</td>\n",
       "      <td>Car Batteries $5 for bad $10 for good</td>\n",
       "      <td>10.0</td>\n",
       "    </tr>\n",
       "    <tr>\n",
       "      <th>Apr 25</th>\n",
       "      <td>ASHEVILLE</td>\n",
       "      <td>Brand New Verbatim pack of 30 DVD-r</td>\n",
       "      <td>10.0</td>\n",
       "    </tr>\n",
       "    <tr>\n",
       "      <th>Apr 25</th>\n",
       "      <td>BREVARD</td>\n",
       "      <td>2 RCA Speaker</td>\n",
       "      <td>10.0</td>\n",
       "    </tr>\n",
       "    <tr>\n",
       "      <th>Apr 25</th>\n",
       "      <td>DELIVERED</td>\n",
       "      <td>Premium Horse Hay!  2017 Production</td>\n",
       "      <td>7.0</td>\n",
       "    </tr>\n",
       "    <tr>\n",
       "      <th>Apr 25</th>\n",
       "      <td>LEICESTER NC</td>\n",
       "      <td>All Man Magazine - 1959</td>\n",
       "      <td>3.0</td>\n",
       "    </tr>\n",
       "    <tr>\n",
       "      <th>Apr 25</th>\n",
       "      <td>MARION</td>\n",
       "      <td>1994 Honda Civic 2 Dr Coupe</td>\n",
       "      <td>2.0</td>\n",
       "    </tr>\n",
       "    <tr>\n",
       "      <th>Apr 25</th>\n",
       "      <td>WAYNESVILLE</td>\n",
       "      <td>2008 Kia Sedona parts</td>\n",
       "      <td>1.0</td>\n",
       "    </tr>\n",
       "    <tr>\n",
       "      <th>Apr 25</th>\n",
       "      <td>WAYNESVILLE</td>\n",
       "      <td>2006 Chrysler 300 parts</td>\n",
       "      <td>1.0</td>\n",
       "    </tr>\n",
       "    <tr>\n",
       "      <th>Apr 25</th>\n",
       "      <td>ASHEVILLE</td>\n",
       "      <td>WTB Vintage Mandolins, Violins, Guitars</td>\n",
       "      <td>1.0</td>\n",
       "    </tr>\n",
       "  </tbody>\n",
       "</table>\n",
       "</div>"
      ],
      "text/plain": [
       "             location                                     name  price\n",
       "Apr 25      ASHEVILLE                          PT 609 Pro Mag.   12.0\n",
       "Apr 25    WAYNESVILLE    Car Batteries $5 for bad $10 for good   10.0\n",
       "Apr 25      ASHEVILLE      Brand New Verbatim pack of 30 DVD-r   10.0\n",
       "Apr 25        BREVARD                            2 RCA Speaker   10.0\n",
       "Apr 25      DELIVERED      Premium Horse Hay!  2017 Production    7.0\n",
       "Apr 25   LEICESTER NC                  All Man Magazine - 1959    3.0\n",
       "Apr 25         MARION              1994 Honda Civic 2 Dr Coupe    2.0\n",
       "Apr 25    WAYNESVILLE                    2008 Kia Sedona parts    1.0\n",
       "Apr 25    WAYNESVILLE                  2006 Chrysler 300 parts    1.0\n",
       "Apr 25      ASHEVILLE  WTB Vintage Mandolins, Violins, Guitars    1.0"
      ]
     },
     "execution_count": 22,
     "metadata": {},
     "output_type": "execute_result"
    }
   ],
   "source": [
    "non_mv.sort_values(by='price', ascending=False).head(10)\n",
    "non_mv.sort_values(by='price', ascending=False).tail(10)"
   ]
  },
  {
   "cell_type": "code",
   "execution_count": 23,
   "metadata": {},
   "outputs": [
    {
     "name": "stderr",
     "output_type": "stream",
     "text": [
      "/anaconda3/lib/python3.6/site-packages/numpy/core/fromnumeric.py:57: FutureWarning: reshape is deprecated and will raise in a subsequent release. Please use .values.reshape(...) instead\n",
      "  return getattr(obj, method)(*args, **kwds)\n"
     ]
    },
    {
     "data": {
      "image/png": "[encoded data removed]",
      "text/plain": [
       "<matplotlib.figure.Figure at 0x1a17c83518>"
      ]
     },
     "metadata": {},
     "output_type": "display_data"
    }
   ],
   "source": [
    "non_mv_bp = non_mv.loc[:, ['location', 'price']]#prepping df for boxplot, removed name column\n",
    "\n",
    "non_mv_bp.boxplot(column='price', by='location', figsize=(9,9))\n",
    "plt.xticks(rotation='vertical')\n",
    "plt.xlabel('Location')\n",
    "plt.ylabel('Price')\n",
    "plt.title('Items Nearby')\n",
    "plt.show();"
   ]
  },
  {
   "cell_type": "markdown",
   "metadata": {},
   "source": [
    "It appears that the anomalous locations are still cluttering the boxplot.  Let's take a look at what those items are and clean up the dataset to refine the visualization."
   ]
  },
  {
   "cell_type": "code",
   "execution_count": 24,
   "metadata": {
    "scrolled": true
   },
   "outputs": [
    {
     "data": {
      "text/plain": [
       "array([' RUTHERFORDTON', 'ASHEVILLE', ' HENDERSONVILLE', ' SWANNANOA',\n",
       "       'WEAVERVILLE', ' ETOWAH', 'WAYNESVILLE', ' WNC', ' CANDLER',\n",
       "       ' FRANKLIN NC', ' FLAT ROCK', ' OLD FORT', 'BREVARD', ' DELIVERED',\n",
       "       ' LEICESTER NC', ' MARION'], dtype=object)"
      ]
     },
     "execution_count": 24,
     "metadata": {},
     "output_type": "execute_result"
    }
   ],
   "source": [
    "non_mv.location.unique()"
   ]
  },
  {
   "cell_type": "code",
   "execution_count": 25,
   "metadata": {},
   "outputs": [
    {
     "data": {
      "text/html": [
       "<div>\n",
       "<style>\n",
       "    .dataframe thead tr:only-child th {\n",
       "        text-align: right;\n",
       "    }\n",
       "\n",
       "    .dataframe thead th {\n",
       "        text-align: left;\n",
       "    }\n",
       "\n",
       "    .dataframe tbody tr th {\n",
       "        vertical-align: top;\n",
       "    }\n",
       "</style>\n",
       "<table border=\"1\" class=\"dataframe\">\n",
       "  <thead>\n",
       "    <tr style=\"text-align: right;\">\n",
       "      <th></th>\n",
       "      <th>location</th>\n",
       "      <th>name</th>\n",
       "      <th>price</th>\n",
       "    </tr>\n",
       "  </thead>\n",
       "  <tbody>\n",
       "    <tr>\n",
       "      <th>Apr 25</th>\n",
       "      <td>DELIVERED</td>\n",
       "      <td>Premium Horse Hay!  2017 Production</td>\n",
       "      <td>7.0</td>\n",
       "    </tr>\n",
       "  </tbody>\n",
       "</table>\n",
       "</div>"
      ],
      "text/plain": [
       "          location                                 name  price\n",
       "Apr 25   DELIVERED  Premium Horse Hay!  2017 Production    7.0"
      ]
     },
     "execution_count": 25,
     "metadata": {},
     "output_type": "execute_result"
    },
    {
     "data": {
      "text/html": [
       "<div>\n",
       "<style>\n",
       "    .dataframe thead tr:only-child th {\n",
       "        text-align: right;\n",
       "    }\n",
       "\n",
       "    .dataframe thead th {\n",
       "        text-align: left;\n",
       "    }\n",
       "\n",
       "    .dataframe tbody tr th {\n",
       "        vertical-align: top;\n",
       "    }\n",
       "</style>\n",
       "<table border=\"1\" class=\"dataframe\">\n",
       "  <thead>\n",
       "    <tr style=\"text-align: right;\">\n",
       "      <th></th>\n",
       "      <th>location</th>\n",
       "      <th>name</th>\n",
       "      <th>price</th>\n",
       "    </tr>\n",
       "  </thead>\n",
       "  <tbody>\n",
       "    <tr>\n",
       "      <th>Apr 25</th>\n",
       "      <td>ETOWAH</td>\n",
       "      <td>Propane fireplace/stove and mantle</td>\n",
       "      <td>500.0</td>\n",
       "    </tr>\n",
       "  </tbody>\n",
       "</table>\n",
       "</div>"
      ],
      "text/plain": [
       "       location                                name  price\n",
       "Apr 25   ETOWAH  Propane fireplace/stove and mantle  500.0"
      ]
     },
     "execution_count": 25,
     "metadata": {},
     "output_type": "execute_result"
    },
    {
     "data": {
      "text/html": [
       "<div>\n",
       "<style>\n",
       "    .dataframe thead tr:only-child th {\n",
       "        text-align: right;\n",
       "    }\n",
       "\n",
       "    .dataframe thead th {\n",
       "        text-align: left;\n",
       "    }\n",
       "\n",
       "    .dataframe tbody tr th {\n",
       "        vertical-align: top;\n",
       "    }\n",
       "</style>\n",
       "<table border=\"1\" class=\"dataframe\">\n",
       "  <thead>\n",
       "    <tr style=\"text-align: right;\">\n",
       "      <th></th>\n",
       "      <th>location</th>\n",
       "      <th>name</th>\n",
       "      <th>price</th>\n",
       "    </tr>\n",
       "  </thead>\n",
       "  <tbody>\n",
       "    <tr>\n",
       "      <th>Apr 25</th>\n",
       "      <td>FLAT ROCK</td>\n",
       "      <td>WHEEL DOLLIES (SET OF 4)</td>\n",
       "      <td>175.0</td>\n",
       "    </tr>\n",
       "  </tbody>\n",
       "</table>\n",
       "</div>"
      ],
      "text/plain": [
       "          location                      name  price\n",
       "Apr 25   FLAT ROCK  WHEEL DOLLIES (SET OF 4)  175.0"
      ]
     },
     "execution_count": 25,
     "metadata": {},
     "output_type": "execute_result"
    },
    {
     "data": {
      "text/html": [
       "<div>\n",
       "<style>\n",
       "    .dataframe thead tr:only-child th {\n",
       "        text-align: right;\n",
       "    }\n",
       "\n",
       "    .dataframe thead th {\n",
       "        text-align: left;\n",
       "    }\n",
       "\n",
       "    .dataframe tbody tr th {\n",
       "        vertical-align: top;\n",
       "    }\n",
       "</style>\n",
       "<table border=\"1\" class=\"dataframe\">\n",
       "  <thead>\n",
       "    <tr style=\"text-align: right;\">\n",
       "      <th></th>\n",
       "      <th>location</th>\n",
       "      <th>name</th>\n",
       "      <th>price</th>\n",
       "    </tr>\n",
       "  </thead>\n",
       "  <tbody>\n",
       "    <tr>\n",
       "      <th>Apr 25</th>\n",
       "      <td>FOREST CITY</td>\n",
       "      <td>HARLEY DAVIDSON seats  Ford Super Duty</td>\n",
       "      <td>2000.0</td>\n",
       "    </tr>\n",
       "  </tbody>\n",
       "</table>\n",
       "</div>"
      ],
      "text/plain": [
       "            location                                    name   price\n",
       "Apr 25   FOREST CITY  HARLEY DAVIDSON seats  Ford Super Duty  2000.0"
      ]
     },
     "execution_count": 25,
     "metadata": {},
     "output_type": "execute_result"
    },
    {
     "data": {
      "text/html": [
       "<div>\n",
       "<style>\n",
       "    .dataframe thead tr:only-child th {\n",
       "        text-align: right;\n",
       "    }\n",
       "\n",
       "    .dataframe thead th {\n",
       "        text-align: left;\n",
       "    }\n",
       "\n",
       "    .dataframe tbody tr th {\n",
       "        vertical-align: top;\n",
       "    }\n",
       "</style>\n",
       "<table border=\"1\" class=\"dataframe\">\n",
       "  <thead>\n",
       "    <tr style=\"text-align: right;\">\n",
       "      <th></th>\n",
       "      <th>location</th>\n",
       "      <th>name</th>\n",
       "      <th>price</th>\n",
       "    </tr>\n",
       "  </thead>\n",
       "  <tbody>\n",
       "    <tr>\n",
       "      <th>Apr 25</th>\n",
       "      <td>FRANKLIN NC</td>\n",
       "      <td>Complete 305 Chevy Engine</td>\n",
       "      <td>200.0</td>\n",
       "    </tr>\n",
       "  </tbody>\n",
       "</table>\n",
       "</div>"
      ],
      "text/plain": [
       "            location                       name  price\n",
       "Apr 25   FRANKLIN NC  Complete 305 Chevy Engine  200.0"
      ]
     },
     "execution_count": 25,
     "metadata": {},
     "output_type": "execute_result"
    },
    {
     "data": {
      "text/html": [
       "<div>\n",
       "<style>\n",
       "    .dataframe thead tr:only-child th {\n",
       "        text-align: right;\n",
       "    }\n",
       "\n",
       "    .dataframe thead th {\n",
       "        text-align: left;\n",
       "    }\n",
       "\n",
       "    .dataframe tbody tr th {\n",
       "        vertical-align: top;\n",
       "    }\n",
       "</style>\n",
       "<table border=\"1\" class=\"dataframe\">\n",
       "  <thead>\n",
       "    <tr style=\"text-align: right;\">\n",
       "      <th></th>\n",
       "      <th>location</th>\n",
       "      <th>name</th>\n",
       "      <th>price</th>\n",
       "    </tr>\n",
       "  </thead>\n",
       "  <tbody>\n",
       "    <tr>\n",
       "      <th>Apr 25</th>\n",
       "      <td>LEICESTER NC</td>\n",
       "      <td>All Man Magazine - 1959</td>\n",
       "      <td>3.0</td>\n",
       "    </tr>\n",
       "  </tbody>\n",
       "</table>\n",
       "</div>"
      ],
      "text/plain": [
       "             location                     name  price\n",
       "Apr 25   LEICESTER NC  All Man Magazine - 1959    3.0"
      ]
     },
     "execution_count": 25,
     "metadata": {},
     "output_type": "execute_result"
    },
    {
     "data": {
      "text/html": [
       "<div>\n",
       "<style>\n",
       "    .dataframe thead tr:only-child th {\n",
       "        text-align: right;\n",
       "    }\n",
       "\n",
       "    .dataframe thead th {\n",
       "        text-align: left;\n",
       "    }\n",
       "\n",
       "    .dataframe tbody tr th {\n",
       "        vertical-align: top;\n",
       "    }\n",
       "</style>\n",
       "<table border=\"1\" class=\"dataframe\">\n",
       "  <thead>\n",
       "    <tr style=\"text-align: right;\">\n",
       "      <th></th>\n",
       "      <th>location</th>\n",
       "      <th>name</th>\n",
       "      <th>price</th>\n",
       "    </tr>\n",
       "  </thead>\n",
       "  <tbody>\n",
       "    <tr>\n",
       "      <th>Apr 25</th>\n",
       "      <td>MARION</td>\n",
       "      <td>1968 Camaro</td>\n",
       "      <td>26500.0</td>\n",
       "    </tr>\n",
       "    <tr>\n",
       "      <th>Apr 25</th>\n",
       "      <td>MARION</td>\n",
       "      <td>1994 Honda Civic 2 Dr Coupe</td>\n",
       "      <td>2.0</td>\n",
       "    </tr>\n",
       "  </tbody>\n",
       "</table>\n",
       "</div>"
      ],
      "text/plain": [
       "       location                         name    price\n",
       "Apr 25   MARION                  1968 Camaro  26500.0\n",
       "Apr 25   MARION  1994 Honda Civic 2 Dr Coupe      2.0"
      ]
     },
     "execution_count": 25,
     "metadata": {},
     "output_type": "execute_result"
    },
    {
     "data": {
      "text/html": [
       "<div>\n",
       "<style>\n",
       "    .dataframe thead tr:only-child th {\n",
       "        text-align: right;\n",
       "    }\n",
       "\n",
       "    .dataframe thead th {\n",
       "        text-align: left;\n",
       "    }\n",
       "\n",
       "    .dataframe tbody tr th {\n",
       "        vertical-align: top;\n",
       "    }\n",
       "</style>\n",
       "<table border=\"1\" class=\"dataframe\">\n",
       "  <thead>\n",
       "    <tr style=\"text-align: right;\">\n",
       "      <th></th>\n",
       "      <th>location</th>\n",
       "      <th>name</th>\n",
       "      <th>price</th>\n",
       "    </tr>\n",
       "  </thead>\n",
       "  <tbody>\n",
       "    <tr>\n",
       "      <th>Apr 25</th>\n",
       "      <td>OLD FORT</td>\n",
       "      <td>Marvin Bailey Face Jug</td>\n",
       "      <td>150.0</td>\n",
       "    </tr>\n",
       "    <tr>\n",
       "      <th>Apr 25</th>\n",
       "      <td>OLD FORT</td>\n",
       "      <td>Maple Book Cases</td>\n",
       "      <td>150.0</td>\n",
       "    </tr>\n",
       "  </tbody>\n",
       "</table>\n",
       "</div>"
      ],
      "text/plain": [
       "         location                    name  price\n",
       "Apr 25   OLD FORT  Marvin Bailey Face Jug  150.0\n",
       "Apr 25   OLD FORT        Maple Book Cases  150.0"
      ]
     },
     "execution_count": 25,
     "metadata": {},
     "output_type": "execute_result"
    },
    {
     "data": {
      "text/html": [
       "<div>\n",
       "<style>\n",
       "    .dataframe thead tr:only-child th {\n",
       "        text-align: right;\n",
       "    }\n",
       "\n",
       "    .dataframe thead th {\n",
       "        text-align: left;\n",
       "    }\n",
       "\n",
       "    .dataframe tbody tr th {\n",
       "        vertical-align: top;\n",
       "    }\n",
       "</style>\n",
       "<table border=\"1\" class=\"dataframe\">\n",
       "  <thead>\n",
       "    <tr style=\"text-align: right;\">\n",
       "      <th></th>\n",
       "      <th>location</th>\n",
       "      <th>name</th>\n",
       "      <th>price</th>\n",
       "    </tr>\n",
       "  </thead>\n",
       "  <tbody>\n",
       "    <tr>\n",
       "      <th>Apr 25</th>\n",
       "      <td>RUTHERFORDTON</td>\n",
       "      <td>Vintage Porcelain True Value Sign</td>\n",
       "      <td>1200.0</td>\n",
       "    </tr>\n",
       "  </tbody>\n",
       "</table>\n",
       "</div>"
      ],
      "text/plain": [
       "              location                               name   price\n",
       "Apr 25   RUTHERFORDTON  Vintage Porcelain True Value Sign  1200.0"
      ]
     },
     "execution_count": 25,
     "metadata": {},
     "output_type": "execute_result"
    },
    {
     "data": {
      "text/html": [
       "<div>\n",
       "<style>\n",
       "    .dataframe thead tr:only-child th {\n",
       "        text-align: right;\n",
       "    }\n",
       "\n",
       "    .dataframe thead th {\n",
       "        text-align: left;\n",
       "    }\n",
       "\n",
       "    .dataframe tbody tr th {\n",
       "        vertical-align: top;\n",
       "    }\n",
       "</style>\n",
       "<table border=\"1\" class=\"dataframe\">\n",
       "  <thead>\n",
       "    <tr style=\"text-align: right;\">\n",
       "      <th></th>\n",
       "      <th>location</th>\n",
       "      <th>name</th>\n",
       "      <th>price</th>\n",
       "    </tr>\n",
       "  </thead>\n",
       "  <tbody>\n",
       "    <tr>\n",
       "      <th>Apr 25</th>\n",
       "      <td>WNC</td>\n",
       "      <td>AKAI  Tuner/Amp ,25 WATT ,and all accessories</td>\n",
       "      <td>250.0</td>\n",
       "    </tr>\n",
       "  </tbody>\n",
       "</table>\n",
       "</div>"
      ],
      "text/plain": [
       "       location                                           name  price\n",
       "Apr 25      WNC  AKAI  Tuner/Amp ,25 WATT ,and all accessories  250.0"
      ]
     },
     "execution_count": 25,
     "metadata": {},
     "output_type": "execute_result"
    }
   ],
   "source": [
    "postings[postings.location.str.contains('DELIVERED')]\n",
    "postings[postings.location.str.contains('ETOWAH')]\n",
    "postings[postings.location.str.contains('FLAT ROCK')]\n",
    "postings[postings.location.str.contains('FOREST CITY')]\n",
    "postings[postings.location.str.contains('FRANKLIN')]\n",
    "postings[postings.location.str.contains('LEICESTER')]\n",
    "postings[postings.location.str.contains('MARION')]\n",
    "postings[postings.location.str.contains('OLD FORT')]\n",
    "postings[postings.location.str.contains('RUTHERFORDTON')]\n",
    "postings[postings.location.str.contains('WNC')]"
   ]
  },
  {
   "cell_type": "code",
   "execution_count": 26,
   "metadata": {},
   "outputs": [
    {
     "data": {
      "text/plain": [
       "ASHEVILLE          27\n",
       "BREVARD            11\n",
       "WAYNESVILLE        10\n",
       " SWANNANOA          8\n",
       "WEAVERVILLE         5\n",
       " HENDERSONVILLE     3\n",
       "Name: location, dtype: int64"
      ]
     },
     "execution_count": 26,
     "metadata": {},
     "output_type": "execute_result"
    },
    {
     "data": {
      "text/html": [
       "<div>\n",
       "<style>\n",
       "    .dataframe thead tr:only-child th {\n",
       "        text-align: right;\n",
       "    }\n",
       "\n",
       "    .dataframe thead th {\n",
       "        text-align: left;\n",
       "    }\n",
       "\n",
       "    .dataframe tbody tr th {\n",
       "        vertical-align: top;\n",
       "    }\n",
       "</style>\n",
       "<table border=\"1\" class=\"dataframe\">\n",
       "  <thead>\n",
       "    <tr style=\"text-align: right;\">\n",
       "      <th></th>\n",
       "      <th>location</th>\n",
       "      <th>name</th>\n",
       "      <th>price</th>\n",
       "    </tr>\n",
       "  </thead>\n",
       "  <tbody>\n",
       "    <tr>\n",
       "      <th>Apr 25</th>\n",
       "      <td>ASHEVILLE</td>\n",
       "      <td>Canon 5D MK II Body - Low Shutter Count</td>\n",
       "      <td>900.0</td>\n",
       "    </tr>\n",
       "  </tbody>\n",
       "</table>\n",
       "</div>"
      ],
      "text/plain": [
       "         location                                     name  price\n",
       "Apr 25  ASHEVILLE  Canon 5D MK II Body - Low Shutter Count  900.0"
      ]
     },
     "execution_count": 26,
     "metadata": {},
     "output_type": "execute_result"
    }
   ],
   "source": [
    "#Removing all locations with 2 or less items.\n",
    "counts = non_mv.location.value_counts()\n",
    "loc_gt2 = counts[counts > 2]\n",
    "loc_gt2 \n",
    "\n",
    "popular_locations = non_mv[non_mv.location.isin(loc_gt2.keys())]\n",
    "\n",
    "popular_locations[popular_locations.price == popular_locations.price.max()]"
   ]
  },
  {
   "cell_type": "markdown",
   "metadata": {},
   "source": [
    "Now we can take a deeper look at the items only located in the primary locations."
   ]
  },
  {
   "cell_type": "code",
   "execution_count": 27,
   "metadata": {},
   "outputs": [
    {
     "data": {
      "text/html": [
       "<div>\n",
       "<style>\n",
       "    .dataframe thead tr:only-child th {\n",
       "        text-align: right;\n",
       "    }\n",
       "\n",
       "    .dataframe thead th {\n",
       "        text-align: left;\n",
       "    }\n",
       "\n",
       "    .dataframe tbody tr th {\n",
       "        vertical-align: top;\n",
       "    }\n",
       "</style>\n",
       "<table border=\"1\" class=\"dataframe\">\n",
       "  <thead>\n",
       "    <tr style=\"text-align: right;\">\n",
       "      <th></th>\n",
       "      <th>price</th>\n",
       "    </tr>\n",
       "  </thead>\n",
       "  <tbody>\n",
       "    <tr>\n",
       "      <th>count</th>\n",
       "      <td>64.000000</td>\n",
       "    </tr>\n",
       "    <tr>\n",
       "      <th>mean</th>\n",
       "      <td>177.437500</td>\n",
       "    </tr>\n",
       "    <tr>\n",
       "      <th>std</th>\n",
       "      <td>219.255803</td>\n",
       "    </tr>\n",
       "    <tr>\n",
       "      <th>min</th>\n",
       "      <td>1.000000</td>\n",
       "    </tr>\n",
       "    <tr>\n",
       "      <th>25%</th>\n",
       "      <td>28.000000</td>\n",
       "    </tr>\n",
       "    <tr>\n",
       "      <th>50%</th>\n",
       "      <td>82.000000</td>\n",
       "    </tr>\n",
       "    <tr>\n",
       "      <th>75%</th>\n",
       "      <td>250.000000</td>\n",
       "    </tr>\n",
       "    <tr>\n",
       "      <th>max</th>\n",
       "      <td>900.000000</td>\n",
       "    </tr>\n",
       "  </tbody>\n",
       "</table>\n",
       "</div>"
      ],
      "text/plain": [
       "            price\n",
       "count   64.000000\n",
       "mean   177.437500\n",
       "std    219.255803\n",
       "min      1.000000\n",
       "25%     28.000000\n",
       "50%     82.000000\n",
       "75%    250.000000\n",
       "max    900.000000"
      ]
     },
     "execution_count": 27,
     "metadata": {},
     "output_type": "execute_result"
    }
   ],
   "source": [
    "popular_locations.describe()"
   ]
  },
  {
   "cell_type": "markdown",
   "metadata": {},
   "source": [
    "I'm concerned that there may be duplicate items.  Let's take a look; if there are some we'll remove them."
   ]
  },
  {
   "cell_type": "code",
   "execution_count": 28,
   "metadata": {},
   "outputs": [
    {
     "data": {
      "text/html": [
       "<div>\n",
       "<style>\n",
       "    .dataframe thead tr:only-child th {\n",
       "        text-align: right;\n",
       "    }\n",
       "\n",
       "    .dataframe thead th {\n",
       "        text-align: left;\n",
       "    }\n",
       "\n",
       "    .dataframe tbody tr th {\n",
       "        vertical-align: top;\n",
       "    }\n",
       "</style>\n",
       "<table border=\"1\" class=\"dataframe\">\n",
       "  <thead>\n",
       "    <tr style=\"text-align: right;\">\n",
       "      <th></th>\n",
       "      <th>location</th>\n",
       "      <th>name</th>\n",
       "      <th>price</th>\n",
       "    </tr>\n",
       "  </thead>\n",
       "  <tbody>\n",
       "    <tr>\n",
       "      <th>Apr 25</th>\n",
       "      <td>ASHEVILLE</td>\n",
       "      <td>Moe's Home Collection Colvin Sideboard in Natural</td>\n",
       "      <td>500.0</td>\n",
       "    </tr>\n",
       "    <tr>\n",
       "      <th>Apr 25</th>\n",
       "      <td>ASHEVILLE</td>\n",
       "      <td>Cardinal Health NPWT Black Foam Dressing Kit X...</td>\n",
       "      <td>79.0</td>\n",
       "    </tr>\n",
       "    <tr>\n",
       "      <th>Apr 25</th>\n",
       "      <td>ASHEVILLE</td>\n",
       "      <td>PT 609 Pro Mag.</td>\n",
       "      <td>12.0</td>\n",
       "    </tr>\n",
       "  </tbody>\n",
       "</table>\n",
       "</div>"
      ],
      "text/plain": [
       "         location                                               name  price\n",
       "Apr 25  ASHEVILLE  Moe's Home Collection Colvin Sideboard in Natural  500.0\n",
       "Apr 25  ASHEVILLE  Cardinal Health NPWT Black Foam Dressing Kit X...   79.0\n",
       "Apr 25  ASHEVILLE                                    PT 609 Pro Mag.   12.0"
      ]
     },
     "execution_count": 28,
     "metadata": {},
     "output_type": "execute_result"
    },
    {
     "name": "stderr",
     "output_type": "stream",
     "text": [
      "/anaconda3/lib/python3.6/site-packages/ipykernel_launcher.py:2: SettingWithCopyWarning: \n",
      "A value is trying to be set on a copy of a slice from a DataFrame\n",
      "\n",
      "See the caveats in the documentation: http://pandas.pydata.org/pandas-docs/stable/indexing.html#indexing-view-versus-copy\n",
      "  \n"
     ]
    }
   ],
   "source": [
    "popular_locations.loc[popular_locations.duplicated(),:]#extracting out all the duplicates\n",
    "popular_locations.drop_duplicates(inplace=True)\n",
    "popular_locations = popular_locations[~popular_locations.name.str.contains('Mission Oak')]#removing this item that shows up 3 times with different names"
   ]
  },
  {
   "cell_type": "code",
   "execution_count": 29,
   "metadata": {},
   "outputs": [
    {
     "data": {
      "text/html": [
       "<div>\n",
       "<style>\n",
       "    .dataframe thead tr:only-child th {\n",
       "        text-align: right;\n",
       "    }\n",
       "\n",
       "    .dataframe thead th {\n",
       "        text-align: left;\n",
       "    }\n",
       "\n",
       "    .dataframe tbody tr th {\n",
       "        vertical-align: top;\n",
       "    }\n",
       "</style>\n",
       "<table border=\"1\" class=\"dataframe\">\n",
       "  <thead>\n",
       "    <tr style=\"text-align: right;\">\n",
       "      <th></th>\n",
       "      <th>location</th>\n",
       "      <th>name</th>\n",
       "      <th>price</th>\n",
       "    </tr>\n",
       "  </thead>\n",
       "  <tbody>\n",
       "    <tr>\n",
       "      <th>Apr 25</th>\n",
       "      <td>ASHEVILLE</td>\n",
       "      <td>Canon 5D MK II Body - Low Shutter Count</td>\n",
       "      <td>900.0</td>\n",
       "    </tr>\n",
       "    <tr>\n",
       "      <th>Apr 25</th>\n",
       "      <td>HENDERSONVILLE</td>\n",
       "      <td>Wedding Dress</td>\n",
       "      <td>800.0</td>\n",
       "    </tr>\n",
       "    <tr>\n",
       "      <th>Apr 25</th>\n",
       "      <td>ASHEVILLE</td>\n",
       "      <td>Antique Oak Cabinet/Bookcase</td>\n",
       "      <td>625.0</td>\n",
       "    </tr>\n",
       "    <tr>\n",
       "      <th>Apr 25</th>\n",
       "      <td>SWANNANOA</td>\n",
       "      <td>27\" iMac (Late 2009)</td>\n",
       "      <td>600.0</td>\n",
       "    </tr>\n",
       "    <tr>\n",
       "      <th>Apr 25</th>\n",
       "      <td>WEAVERVILLE</td>\n",
       "      <td>Canon EF 17-35mm f/2.8 L USM Lens -Exc</td>\n",
       "      <td>525.0</td>\n",
       "    </tr>\n",
       "  </tbody>\n",
       "</table>\n",
       "</div>"
      ],
      "text/plain": [
       "               location                                     name  price\n",
       "Apr 25        ASHEVILLE  Canon 5D MK II Body - Low Shutter Count  900.0\n",
       "Apr 25   HENDERSONVILLE                            Wedding Dress  800.0\n",
       "Apr 25        ASHEVILLE             Antique Oak Cabinet/Bookcase  625.0\n",
       "Apr 25        SWANNANOA                     27\" iMac (Late 2009)  600.0\n",
       "Apr 25      WEAVERVILLE   Canon EF 17-35mm f/2.8 L USM Lens -Exc  525.0"
      ]
     },
     "execution_count": 29,
     "metadata": {},
     "output_type": "execute_result"
    },
    {
     "data": {
      "text/html": [
       "<div>\n",
       "<style>\n",
       "    .dataframe thead tr:only-child th {\n",
       "        text-align: right;\n",
       "    }\n",
       "\n",
       "    .dataframe thead th {\n",
       "        text-align: left;\n",
       "    }\n",
       "\n",
       "    .dataframe tbody tr th {\n",
       "        vertical-align: top;\n",
       "    }\n",
       "</style>\n",
       "<table border=\"1\" class=\"dataframe\">\n",
       "  <thead>\n",
       "    <tr style=\"text-align: right;\">\n",
       "      <th></th>\n",
       "      <th>location</th>\n",
       "      <th>name</th>\n",
       "      <th>price</th>\n",
       "    </tr>\n",
       "  </thead>\n",
       "  <tbody>\n",
       "    <tr>\n",
       "      <th>Apr 25</th>\n",
       "      <td>BREVARD</td>\n",
       "      <td>2 RCA Speaker</td>\n",
       "      <td>10.0</td>\n",
       "    </tr>\n",
       "    <tr>\n",
       "      <th>Apr 25</th>\n",
       "      <td>WAYNESVILLE</td>\n",
       "      <td>Car Batteries $5 for bad $10 for good</td>\n",
       "      <td>10.0</td>\n",
       "    </tr>\n",
       "    <tr>\n",
       "      <th>Apr 25</th>\n",
       "      <td>WAYNESVILLE</td>\n",
       "      <td>2008 Kia Sedona parts</td>\n",
       "      <td>1.0</td>\n",
       "    </tr>\n",
       "    <tr>\n",
       "      <th>Apr 25</th>\n",
       "      <td>WAYNESVILLE</td>\n",
       "      <td>2006 Chrysler 300 parts</td>\n",
       "      <td>1.0</td>\n",
       "    </tr>\n",
       "    <tr>\n",
       "      <th>Apr 25</th>\n",
       "      <td>ASHEVILLE</td>\n",
       "      <td>WTB Vintage Mandolins, Violins, Guitars</td>\n",
       "      <td>1.0</td>\n",
       "    </tr>\n",
       "  </tbody>\n",
       "</table>\n",
       "</div>"
      ],
      "text/plain": [
       "           location                                     name  price\n",
       "Apr 25      BREVARD                            2 RCA Speaker   10.0\n",
       "Apr 25  WAYNESVILLE    Car Batteries $5 for bad $10 for good   10.0\n",
       "Apr 25  WAYNESVILLE                    2008 Kia Sedona parts    1.0\n",
       "Apr 25  WAYNESVILLE                  2006 Chrysler 300 parts    1.0\n",
       "Apr 25    ASHEVILLE  WTB Vintage Mandolins, Violins, Guitars    1.0"
      ]
     },
     "execution_count": 29,
     "metadata": {},
     "output_type": "execute_result"
    }
   ],
   "source": [
    "popular_locations.head()\n",
    "popular_locations.tail()"
   ]
  },
  {
   "cell_type": "markdown",
   "metadata": {},
   "source": [
    "Now that we've extracted and removed the anamolous locations and erroneous items from the dataset, let's take a deeper dive into each location and the items available there."
   ]
  },
  {
   "cell_type": "code",
   "execution_count": 30,
   "metadata": {},
   "outputs": [
    {
     "name": "stderr",
     "output_type": "stream",
     "text": [
      "/anaconda3/lib/python3.6/site-packages/numpy/core/fromnumeric.py:57: FutureWarning: reshape is deprecated and will raise in a subsequent release. Please use .values.reshape(...) instead\n",
      "  return getattr(obj, method)(*args, **kwds)\n"
     ]
    },
    {
     "data": {
      "image/png": "[encoded data removed]",
      "text/plain": [
       "<matplotlib.figure.Figure at 0x1a2053f0b8>"
      ]
     },
     "metadata": {},
     "output_type": "display_data"
    }
   ],
   "source": [
    "popular_postings_bp = popular_locations.loc[:, ['location', 'price']]\n",
    "\n",
    "#create a boxplot; specify labels and title.  \n",
    "popular_postings_bp.boxplot(column='price', by='location', figsize=(9,9))\n",
    "plt.xticks(rotation='vertical')\n",
    "plt.xlabel('Location')\n",
    "plt.ylabel('Price')\n",
    "plt.title('Items Nearby')\n",
    "plt.show();"
   ]
  },
  {
   "cell_type": "code",
   "execution_count": 31,
   "metadata": {},
   "outputs": [
    {
     "data": {
      "text/html": [
       "<div>\n",
       "<style>\n",
       "    .dataframe thead tr:only-child th {\n",
       "        text-align: right;\n",
       "    }\n",
       "\n",
       "    .dataframe thead th {\n",
       "        text-align: left;\n",
       "    }\n",
       "\n",
       "    .dataframe tbody tr th {\n",
       "        vertical-align: top;\n",
       "    }\n",
       "</style>\n",
       "<table border=\"1\" class=\"dataframe\">\n",
       "  <thead>\n",
       "    <tr>\n",
       "      <th></th>\n",
       "      <th colspan=\"8\" halign=\"left\">price</th>\n",
       "    </tr>\n",
       "    <tr>\n",
       "      <th></th>\n",
       "      <th>count</th>\n",
       "      <th>mean</th>\n",
       "      <th>std</th>\n",
       "      <th>min</th>\n",
       "      <th>25%</th>\n",
       "      <th>50%</th>\n",
       "      <th>75%</th>\n",
       "      <th>max</th>\n",
       "    </tr>\n",
       "    <tr>\n",
       "      <th>location</th>\n",
       "      <th></th>\n",
       "      <th></th>\n",
       "      <th></th>\n",
       "      <th></th>\n",
       "      <th></th>\n",
       "      <th></th>\n",
       "      <th></th>\n",
       "      <th></th>\n",
       "    </tr>\n",
       "  </thead>\n",
       "  <tbody>\n",
       "    <tr>\n",
       "      <th>HENDERSONVILLE</th>\n",
       "      <td>3.0</td>\n",
       "      <td>379.666667</td>\n",
       "      <td>386.368132</td>\n",
       "      <td>40.0</td>\n",
       "      <td>169.50</td>\n",
       "      <td>299.0</td>\n",
       "      <td>549.50</td>\n",
       "      <td>800.0</td>\n",
       "    </tr>\n",
       "    <tr>\n",
       "      <th>SWANNANOA</th>\n",
       "      <td>8.0</td>\n",
       "      <td>281.250000</td>\n",
       "      <td>157.972647</td>\n",
       "      <td>100.0</td>\n",
       "      <td>187.50</td>\n",
       "      <td>250.0</td>\n",
       "      <td>325.00</td>\n",
       "      <td>600.0</td>\n",
       "    </tr>\n",
       "    <tr>\n",
       "      <th>ASHEVILLE</th>\n",
       "      <td>22.0</td>\n",
       "      <td>166.590909</td>\n",
       "      <td>239.687229</td>\n",
       "      <td>1.0</td>\n",
       "      <td>20.00</td>\n",
       "      <td>49.5</td>\n",
       "      <td>221.25</td>\n",
       "      <td>900.0</td>\n",
       "    </tr>\n",
       "    <tr>\n",
       "      <th>BREVARD</th>\n",
       "      <td>11.0</td>\n",
       "      <td>65.363636</td>\n",
       "      <td>45.149247</td>\n",
       "      <td>10.0</td>\n",
       "      <td>25.00</td>\n",
       "      <td>75.0</td>\n",
       "      <td>92.50</td>\n",
       "      <td>150.0</td>\n",
       "    </tr>\n",
       "    <tr>\n",
       "      <th>WAYNESVILLE</th>\n",
       "      <td>10.0</td>\n",
       "      <td>98.700000</td>\n",
       "      <td>147.143203</td>\n",
       "      <td>1.0</td>\n",
       "      <td>16.25</td>\n",
       "      <td>65.0</td>\n",
       "      <td>105.00</td>\n",
       "      <td>500.0</td>\n",
       "    </tr>\n",
       "    <tr>\n",
       "      <th>WEAVERVILLE</th>\n",
       "      <td>5.0</td>\n",
       "      <td>151.000000</td>\n",
       "      <td>210.227258</td>\n",
       "      <td>30.0</td>\n",
       "      <td>46.00</td>\n",
       "      <td>65.0</td>\n",
       "      <td>89.00</td>\n",
       "      <td>525.0</td>\n",
       "    </tr>\n",
       "  </tbody>\n",
       "</table>\n",
       "</div>"
      ],
      "text/plain": [
       "                price                                                        \\\n",
       "                count        mean         std    min     25%    50%     75%   \n",
       "location                                                                      \n",
       " HENDERSONVILLE   3.0  379.666667  386.368132   40.0  169.50  299.0  549.50   \n",
       " SWANNANOA        8.0  281.250000  157.972647  100.0  187.50  250.0  325.00   \n",
       "ASHEVILLE        22.0  166.590909  239.687229    1.0   20.00   49.5  221.25   \n",
       "BREVARD          11.0   65.363636   45.149247   10.0   25.00   75.0   92.50   \n",
       "WAYNESVILLE      10.0   98.700000  147.143203    1.0   16.25   65.0  105.00   \n",
       "WEAVERVILLE       5.0  151.000000  210.227258   30.0   46.00   65.0   89.00   \n",
       "\n",
       "                        \n",
       "                   max  \n",
       "location                \n",
       " HENDERSONVILLE  800.0  \n",
       " SWANNANOA       600.0  \n",
       "ASHEVILLE        900.0  \n",
       "BREVARD          150.0  \n",
       "WAYNESVILLE      500.0  \n",
       "WEAVERVILLE      525.0  "
      ]
     },
     "execution_count": 31,
     "metadata": {},
     "output_type": "execute_result"
    },
    {
     "data": {
      "text/html": [
       "<div>\n",
       "<style>\n",
       "    .dataframe thead tr:only-child th {\n",
       "        text-align: right;\n",
       "    }\n",
       "\n",
       "    .dataframe thead th {\n",
       "        text-align: left;\n",
       "    }\n",
       "\n",
       "    .dataframe tbody tr th {\n",
       "        vertical-align: top;\n",
       "    }\n",
       "</style>\n",
       "<table border=\"1\" class=\"dataframe\">\n",
       "  <thead>\n",
       "    <tr style=\"text-align: right;\">\n",
       "      <th></th>\n",
       "      <th>sum</th>\n",
       "    </tr>\n",
       "    <tr>\n",
       "      <th>location</th>\n",
       "      <th></th>\n",
       "    </tr>\n",
       "  </thead>\n",
       "  <tbody>\n",
       "    <tr>\n",
       "      <th>HENDERSONVILLE</th>\n",
       "      <td>1139.0</td>\n",
       "    </tr>\n",
       "    <tr>\n",
       "      <th>SWANNANOA</th>\n",
       "      <td>2250.0</td>\n",
       "    </tr>\n",
       "    <tr>\n",
       "      <th>ASHEVILLE</th>\n",
       "      <td>3665.0</td>\n",
       "    </tr>\n",
       "    <tr>\n",
       "      <th>BREVARD</th>\n",
       "      <td>719.0</td>\n",
       "    </tr>\n",
       "    <tr>\n",
       "      <th>WAYNESVILLE</th>\n",
       "      <td>987.0</td>\n",
       "    </tr>\n",
       "    <tr>\n",
       "      <th>WEAVERVILLE</th>\n",
       "      <td>755.0</td>\n",
       "    </tr>\n",
       "  </tbody>\n",
       "</table>\n",
       "</div>"
      ],
      "text/plain": [
       "                    sum\n",
       "location               \n",
       " HENDERSONVILLE  1139.0\n",
       " SWANNANOA       2250.0\n",
       "ASHEVILLE        3665.0\n",
       "BREVARD           719.0\n",
       "WAYNESVILLE       987.0\n",
       "WEAVERVILLE       755.0"
      ]
     },
     "execution_count": 31,
     "metadata": {},
     "output_type": "execute_result"
    },
    {
     "data": {
      "text/html": [
       "<div>\n",
       "<style>\n",
       "    .dataframe thead tr:only-child th {\n",
       "        text-align: right;\n",
       "    }\n",
       "\n",
       "    .dataframe thead th {\n",
       "        text-align: left;\n",
       "    }\n",
       "\n",
       "    .dataframe tbody tr th {\n",
       "        vertical-align: top;\n",
       "    }\n",
       "</style>\n",
       "<table border=\"1\" class=\"dataframe\">\n",
       "  <thead>\n",
       "    <tr style=\"text-align: right;\">\n",
       "      <th></th>\n",
       "      <th>name</th>\n",
       "      <th>price</th>\n",
       "    </tr>\n",
       "    <tr>\n",
       "      <th>location</th>\n",
       "      <th></th>\n",
       "      <th></th>\n",
       "    </tr>\n",
       "  </thead>\n",
       "  <tbody>\n",
       "    <tr>\n",
       "      <th>HENDERSONVILLE</th>\n",
       "      <td>Wedding Dress</td>\n",
       "      <td>800.0</td>\n",
       "    </tr>\n",
       "    <tr>\n",
       "      <th>SWANNANOA</th>\n",
       "      <td>27\" iMac (Late 2009)</td>\n",
       "      <td>600.0</td>\n",
       "    </tr>\n",
       "    <tr>\n",
       "      <th>ASHEVILLE</th>\n",
       "      <td>Canon 5D MK II Body - Low Shutter Count</td>\n",
       "      <td>900.0</td>\n",
       "    </tr>\n",
       "    <tr>\n",
       "      <th>BREVARD</th>\n",
       "      <td>Wood Pantry Cabinet</td>\n",
       "      <td>150.0</td>\n",
       "    </tr>\n",
       "    <tr>\n",
       "      <th>WAYNESVILLE</th>\n",
       "      <td>Large 6' - 8' Solid Wood Dining Table with 8 c...</td>\n",
       "      <td>500.0</td>\n",
       "    </tr>\n",
       "    <tr>\n",
       "      <th>WEAVERVILLE</th>\n",
       "      <td>Canon EF 17-35mm f/2.8 L USM Lens -Exc</td>\n",
       "      <td>525.0</td>\n",
       "    </tr>\n",
       "  </tbody>\n",
       "</table>\n",
       "</div>"
      ],
      "text/plain": [
       "                                                              name  price\n",
       "location                                                                 \n",
       " HENDERSONVILLE                                      Wedding Dress  800.0\n",
       " SWANNANOA                                    27\" iMac (Late 2009)  600.0\n",
       "ASHEVILLE                  Canon 5D MK II Body - Low Shutter Count  900.0\n",
       "BREVARD                                        Wood Pantry Cabinet  150.0\n",
       "WAYNESVILLE      Large 6' - 8' Solid Wood Dining Table with 8 c...  500.0\n",
       "WEAVERVILLE                 Canon EF 17-35mm f/2.8 L USM Lens -Exc  525.0"
      ]
     },
     "execution_count": 31,
     "metadata": {},
     "output_type": "execute_result"
    }
   ],
   "source": [
    "popular_locations.groupby(['location']).describe()\n",
    "\n",
    "popular_locations.groupby(['location']).agg(['sum']).loc[:,'price']\n",
    "\n",
    "popular_locations.sort_values(by='price', ascending=False).groupby('location').first()#most expensive item in each location"
   ]
  },
  {
   "cell_type": "code",
   "execution_count": 51,
   "metadata": {
    "scrolled": true
   },
   "outputs": [
    {
     "data": {
      "image/png": "[encoded data removed]",
      "text/plain": [
       "<matplotlib.figure.Figure at 0x1a20614780>"
      ]
     },
     "metadata": {},
     "output_type": "display_data"
    }
   ],
   "source": [
    "plt.figure(figsize=(10,5))\n",
    "sns.violinplot(x=\"location\", y=\"price\", data=popular_locations, scale=\"width\", inner=\"stick\")\n",
    "plt.show();"
   ]
  },
  {
   "cell_type": "code",
   "execution_count": 33,
   "metadata": {},
   "outputs": [
    {
     "data": {
      "image/png": "[encoded data removed]",
      "text/plain": [
       "<matplotlib.figure.Figure at 0x1a20461dd8>"
      ]
     },
     "metadata": {},
     "output_type": "display_data"
    }
   ],
   "source": [
    "fig = plt.figure(figsize=(12,12)) #opening a figure\n",
    "\n",
    "#first subplot\n",
    "ax1 = fig.add_subplot(1,3,1) #first subplot\n",
    "ax1.hist(popular_locations.price.values)\n",
    "plt.title(\"All Locations\")\n",
    "plt.ylabel(\"# of Items\")\n",
    "plt.xlabel(\"Price\")\n",
    "\n",
    "ax2 = fig.add_subplot(3,3,2)\n",
    "ax2.hist(popular_locations[popular_locations.location.str.contains('ASHEVILLE')]['price'])\n",
    "plt.title(\"Asheville\")\n",
    "plt.ylabel(\"# of Items\")\n",
    "plt.xlabel(\"Price\")\n",
    "ax3 = fig.add_subplot(3,3,3)\n",
    "ax3.hist(popular_locations[popular_locations.location.str.contains('BREVARD')]['price'])\n",
    "plt.title(\"Brevard\")\n",
    "plt.ylabel(\"# of Items\")\n",
    "plt.xlabel(\"Price\")\n",
    "ax4 = fig.add_subplot(3,3,5)\n",
    "ax4.hist(popular_locations[popular_locations.location.str.contains('HENDERSONVILLE')]['price'])\n",
    "plt.title(\"Hendersonville\")\n",
    "plt.ylabel(\"# of Items\")\n",
    "plt.xlabel(\"Price\")\n",
    "ax5 = fig.add_subplot(3,3,6)\n",
    "ax5.hist(popular_locations[popular_locations.location.str.contains('SWANNANOA')]['price'])\n",
    "plt.title(\"Swannanoa\")\n",
    "plt.ylabel(\"# of Items\")\n",
    "plt.xlabel(\"Price\")\n",
    "ax6 = fig.add_subplot(3,3,8)\n",
    "ax6.hist(popular_locations[popular_locations.location.str.contains('WAYNESVILLE')]['price'])\n",
    "plt.title(\"Waynesville\")\n",
    "plt.ylabel(\"# of Items\")\n",
    "plt.xlabel(\"Price\")\n",
    "ax7 = fig.add_subplot(3,3,9)\n",
    "ax7.hist(popular_locations[popular_locations.location.str.contains('WEAVERVILLE')]['price'])\n",
    "plt.title(\"Weaverville\")\n",
    "plt.ylabel(\"# of Items\")\n",
    "plt.xlabel(\"Price\")\n",
    "\n",
    "plt.tight_layout()\n",
    "plt.show();"
   ]
  },
  {
   "cell_type": "markdown",
   "metadata": {},
   "source": [
    "We can see from the numerical analysis and visualizations that we can be confident $500.00 will allow us to purchase the majority of items in the primary locations around the Asheville area.\n",
    "\n",
    "Now that we've taken a deep dive into the data, let's take a step back and take create a wordcloud to get one last quick glimpse of the raw used items scraped from Craigslist on April 25th."
   ]
  },
  {
   "cell_type": "code",
   "execution_count": 48,
   "metadata": {
    "scrolled": true
   },
   "outputs": [
    {
     "data": {
      "image/png": "[encoded data removed]",
      "text/plain": [
       "<matplotlib.figure.Figure at 0x1a20269d30>"
      ]
     },
     "metadata": {},
     "output_type": "display_data"
    }
   ],
   "source": [
    "plt.figure(figsize=(10,10))\n",
    "wordcloud = WordCloud(background_color='white', mode = \"RGB\", width = 2000, height=1000).generate(str(postings['name']))\n",
    "plt.title(\"Craigslist Used Items Word Cloud\")\n",
    "plt.imshow(wordcloud)\n",
    "plt.axis(\"off\")\n",
    "plt.show();"
   ]
  },
  {
   "cell_type": "markdown",
   "metadata": {},
   "source": [
    "In conclusion, this sample size snapshot of used items in the area illuminates that there are plenty of pickings for any vehicle enthusiast.  If someone is hunting for a deal that outside of purchasing a used vehicle, they can expect to pay around $500.00 or less. Free items are seperated in another area of Craigslist so it will require its own separate search another time. One man's junk is another man's treasure and happy hunting!"
   ]
  }
 ],
 "metadata": {
  "anaconda-cloud": {},
  "kernelspec": {
   "display_name": "Python 3",
   "language": "python",
   "name": "python3"
  },
  "language_info": {
   "codemirror_mode": {
    "name": "ipython",
    "version": 3
   },
   "file_extension": ".py",
   "mimetype": "text/x-python",
   "name": "python",
   "nbconvert_exporter": "python",
   "pygments_lexer": "ipython3",
   "version": "3.6.3"
  }
 },
 "nbformat": 4,
 "nbformat_minor": 1
}
